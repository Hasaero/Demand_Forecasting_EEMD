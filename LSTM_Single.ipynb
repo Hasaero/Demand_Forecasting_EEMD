{
 "cells": [
  {
   "cell_type": "markdown",
   "id": "2f0367e8",
   "metadata": {},
   "source": [
    "# LSTM Single Model"
   ]
  },
  {
   "cell_type": "markdown",
   "id": "9353f79f",
   "metadata": {},
   "source": [
    "## Data Description\n",
    "\n",
    "    - Raw data: Historical Product Demand.csv\n",
    "\n",
    "    - Input data: Data on 8x augmentation of demand records by selecting 8 representative items\n",
    "\n",
    "    - Product code: 'Product_0025', 'Product_0739', 'Product_0901', 'Product_1154',\n",
    "                    'Product_1248', 'Product_1295', 'Product_1378', 'Product_2004'\n",
    "            \n",
    "\n",
    "    - Size of Data: 116392 rows × 4 columns\n",
    "\n",
    "    - Features: Date, Product_Code, Product_Category, Order_Demand\n",
    "\n",
    "    - Period: 2012-01-01 ~ 2017-01-09"
   ]
  },
  {
   "cell_type": "markdown",
   "id": "7ba9ee40",
   "metadata": {},
   "source": [
    "---"
   ]
  },
  {
   "cell_type": "code",
   "execution_count": 39,
   "id": "7c9a71a6",
   "metadata": {},
   "outputs": [],
   "source": [
    "# DataFrame\n",
    "import pandas as pd\n",
    "import numpy as np\n",
    "import random\n",
    "from datetime import datetime, date\n",
    "\n",
    "# Preprocessing\n",
    "from sklearn.preprocessing import RobustScaler\n",
    "from sklearn.preprocessing import MinMaxScaler\n",
    "from sklearn.preprocessing import StandardScaler\n",
    "\n",
    "# Visualization\n",
    "import matplotlib.pyplot as plt\n",
    "import seaborn as sns\n",
    "import warnings\n",
    "\n",
    "# Save the log\n",
    "import os\n",
    "import time\n",
    "import pickle \n",
    "\n",
    "# LSTM\n",
    "import tensorflow as tf\n",
    "\n",
    "from tensorflow.keras.layers import Dense\n",
    "from tensorflow.keras.layers import SimpleRNN\n",
    "from tensorflow.keras.layers import LSTM\n",
    "from tensorflow.keras.layers import Dropout\n",
    "from tensorflow.keras.layers import Activation\n",
    "\n",
    "from tensorflow.keras.models import Sequential\n",
    "from tensorflow.keras.optimizers import Adam\n",
    "from tensorflow.keras.losses import MSE\n",
    "\n",
    "from tensorflow.keras.callbacks import EarlyStopping\n",
    "from tensorflow.keras.callbacks import ModelCheckpoint\n",
    "from tensorflow.keras.callbacks import ReduceLROnPlateau\n",
    "\n",
    "# Metric \n",
    "from sklearn.metrics import mean_squared_error\n",
    "from sklearn.metrics import mean_absolute_error\n",
    "from sklearn.metrics import mean_squared_log_error\n",
    "from sklearn.metrics import r2_score"
   ]
  },
  {
   "cell_type": "markdown",
   "id": "6f58e094",
   "metadata": {},
   "source": [
    "## Data Explore"
   ]
  },
  {
   "cell_type": "code",
   "execution_count": 10,
   "id": "e6c8f1d3",
   "metadata": {},
   "outputs": [],
   "source": [
    "# Data Loading\n",
    "df = pd.read_csv('Data\\HPD_Augmented_0416.csv')\n",
    "# convert the string to the datetype\n",
    "df['Date'] = pd.to_datetime(df['Date'])"
   ]
  },
  {
   "cell_type": "code",
   "execution_count": 11,
   "id": "ed38f8d7",
   "metadata": {},
   "outputs": [
    {
     "name": "stdout",
     "output_type": "stream",
     "text": [
      "<class 'pandas.core.frame.DataFrame'>\n",
      "RangeIndex: 116392 entries, 0 to 116391\n",
      "Data columns (total 4 columns):\n",
      " #   Column            Non-Null Count   Dtype         \n",
      "---  ------            --------------   -----         \n",
      " 0   Date              116392 non-null  datetime64[ns]\n",
      " 1   Product_Code      116392 non-null  object        \n",
      " 2   Product_Category  116392 non-null  object        \n",
      " 3   Order_Demand      116392 non-null  float64       \n",
      "dtypes: datetime64[ns](1), float64(1), object(2)\n",
      "memory usage: 3.6+ MB\n",
      "None\n",
      "-------------------------\n",
      "\n",
      "The Number of unique\n",
      "-------------------------\n",
      "Product code:\t 8\n",
      "Category:\t 5\n",
      "-------------------------\n",
      "The Product Code:\n",
      "\n",
      "1 Product_0025\n",
      "2 Product_0739\n",
      "3 Product_0901\n",
      "4 Product_1154\n",
      "5 Product_1248\n",
      "6 Product_1295\n",
      "7 Product_1378\n",
      "8 Product_2004\n"
     ]
    }
   ],
   "source": [
    "print(df.info())\n",
    "print('-------------------------')\n",
    "print(\"\")\n",
    "print(\"The Number of unique\")\n",
    "print('-------------------------')\n",
    "print('Product code:\\t', df.Product_Code.nunique())\n",
    "print('Category:\\t', df.Product_Category.nunique())\n",
    "print('-------------------------')\n",
    "print(\"The Product Code:\")\n",
    "print(\"\")\n",
    "for i, code in enumerate(df['Product_Code'].unique()):\n",
    "    print(i+1, code)"
   ]
  },
  {
   "cell_type": "markdown",
   "id": "76850788",
   "metadata": {},
   "source": [
    "---"
   ]
  },
  {
   "cell_type": "markdown",
   "id": "4680cb42",
   "metadata": {},
   "source": [
    "### Split the train and test set\n",
    "- Input\n",
    "     data: dataframe with dates and Demand data\n",
    "     \n",
    "- output\n",
    "    - train:  2012-01-01 ~ 2015-06/30 \n",
    "    - Valid:  2015-07-01 ~ 2015-12-31\n",
    "    - test :  2016-01-01 ~ 2017-01-06 \n",
    "    \n",
    "     \n",
    "- time_steps: # of the input time steps \n",
    "- for_periods: # of the output time steps "
   ]
  },
  {
   "cell_type": "code",
   "execution_count": 12,
   "id": "1dbe9b44",
   "metadata": {},
   "outputs": [],
   "source": [
    "def ts_train_val_test(product_df, time_steps): \n",
    "\n",
    "    ts_train_end = len(product_df[product_df['Date']<'2015-07-01']) # train 데이터 종료 인덱스\n",
    "    ts_val_end = len(product_df[product_df['Date']<'2016-01-01']) # validation 데이터 종료 인덱스\n",
    "    ts = product_df.filter(['y']).values # y(수요량) 값\n",
    "    \n",
    "    # Minmax로 0~1 사이에 값이 오도록 정규화\n",
    "    sc = MinMaxScaler() # 객체 생성\n",
    "    ts_scaled = sc.fit_transform(ts) # 전체 y값 정규화\n",
    "    \n",
    "    # Train Data\n",
    "    ts_train_scaled = ts_scaled[:ts_train_end,:]\n",
    "\n",
    "    X_train = [] \n",
    "    y_train = []\n",
    "    for i in range(time_steps, ts_train_end): \n",
    "        X_train.append(ts_train_scaled[i-time_steps:i,0]) # time steps 만큼 sliding window\n",
    "        y_train.append(ts_train_scaled[i,0])\n",
    "\n",
    "    X_train = np.array(X_train)\n",
    "    y_train = np.array(y_train)\n",
    "    \n",
    "    # Reshape X_train for LSTM -> (batch_size, time_steps, features)\n",
    "    X_train = np.reshape(X_train, (X_train.shape[0], X_train.shape[1],1))\n",
    "\n",
    "    # Validation Data\n",
    "    ts_val_scaled = ts_scaled[ts_train_end : ts_val_end, :]\n",
    "\n",
    "    X_val = []\n",
    "    y_val = []\n",
    "    for i in range(time_steps, len(ts_val_scaled)):\n",
    "        X_val.append(ts_val_scaled[i-time_steps : i, 0])\n",
    "        y_val.append(ts_val_scaled[i, 0])\n",
    "\n",
    "    X_val = np.array(X_val)\n",
    "    y_val = np.array(y_val)\n",
    "\n",
    "    # Reshape X_val for LSTM -> (batch_size, time_steps, features)\n",
    "    X_val = np.reshape(X_val, (X_val.shape[0], X_val.shape[1],1))\n",
    "    \n",
    "    # Test Data\n",
    "    ts_test_scaled = ts_scaled[ts_val_end:,:]\n",
    "\n",
    "    X_test = []\n",
    "    y_test = product_df.iloc[ts_val_end+time_steps:,:]\n",
    "    y_test.loc[:, 'y_norm'] = ts_test_scaled[time_steps:].reshape(-1).copy()\n",
    "\n",
    "    for i in range(time_steps, len(ts_test_scaled)):\n",
    "        X_test.append(ts_test_scaled[i-time_steps : i, 0])\n",
    "    \n",
    "    X_test = np.array(X_test)\n",
    "    X_test = np.reshape(X_test, (X_test.shape[0], X_test.shape[1],1))\n",
    "    \n",
    "    return X_train, y_train, X_val, y_val, X_test, y_test, sc"
   ]
  },
  {
   "cell_type": "markdown",
   "id": "03da9661",
   "metadata": {},
   "source": [
    "### LSTM"
   ]
  },
  {
   "cell_type": "code",
   "execution_count": 30,
   "id": "01113fe0",
   "metadata": {},
   "outputs": [],
   "source": [
    "def LSTM_model(X_train, y_train, X_val, y_val, X_test, sc, epochs):\n",
    "    # LSTM 모델 객체 생성\n",
    "    my_LSTM_model = Sequential() \n",
    "    \n",
    "    # 첫 번째 LSTM 레이어 구성\n",
    "    # 활성화 함수는 ReLU를 사용하며, return_sequences=True로 지정하여 다음 LSTM 레이어의 입력으로 사용할 수 있도록 함\n",
    "    my_LSTM_model.add(LSTM(512, activation='relu',return_sequences=True, input_shape=(X_train.shape[1],1)))\n",
    "    \n",
    "    # 두 번째 LSTM 레이어 구성\n",
    "    # 활성화 함수는 ReLU를 사용하며, return_sequences=False로 지정하여 마지막 LSTM 레이어임을 나타냄\n",
    "    my_LSTM_model.add(LSTM(256, activation = 'relu',return_sequences=False))\n",
    "    \n",
    "    # Fully connected 레이어들 추가\n",
    "    # 마지막 레이어에서는 출력의 unit 개수를 1로 설정하여 1개의 값을 출력\n",
    "    my_LSTM_model.add(Dense(128))\n",
    "    my_LSTM_model.add(Dense(64))\n",
    "    my_LSTM_model.add(Dense(32))\n",
    "    my_LSTM_model.add(Dense(1))\n",
    "    \n",
    "    # 모델 컴파일\n",
    "    my_LSTM_model.compile(optimizer = \"Adam\", # Adam optimizer 사용\n",
    "                         loss = 'mean_squared_error', # 손실 함수로는 평균 제곱 오차 사용\n",
    "                          metrics=['mape','mae']) # 성능 지표로는 MAPE와 MAE를 사용\n",
    "    #조기종료 조건\n",
    "    early_stopping = EarlyStopping(monitor='val_loss', patience=5, restore_best_weights=True)\n",
    "\n",
    "    # 모델 Fitting\n",
    "    my_LSTM_model.fit(X_train, # 입력 데이터\n",
    "                      y_train, # 출력 데이터\n",
    "                      epochs = epochs, # epoch 수\n",
    "                      batch_size = 16, # batch size\n",
    "                      validation_data=(X_val, y_val),\n",
    "                      callbacks=[early_stopping],# validation에 따른 조기종료\n",
    "                      verbose = 1) # 학습 상태를 출력\n",
    "    \n",
    "    # Test 데이터 예측\n",
    "    LSTM_prediction = my_LSTM_model.predict(X_test) # 예측값 얻기\n",
    "    LSTM_prediction_normalized = LSTM_prediction # 예측값을 저장하되, normalize된 값 저장\n",
    "    LSTM_prediction = sc.inverse_transform(LSTM_prediction) # denormalize된 예측값 저장\n",
    "    \n",
    "    # 모델 객체와 예측값 반환\n",
    "    return my_LSTM_model, LSTM_prediction, LSTM_prediction_normalized"
   ]
  },
  {
   "cell_type": "markdown",
   "id": "d04b922e",
   "metadata": {},
   "source": [
    "### EEMD Single Model"
   ]
  },
  {
   "cell_type": "code",
   "execution_count": 31,
   "id": "a404016b",
   "metadata": {},
   "outputs": [],
   "source": [
    "def LSTM_single(product_df, time_steps, epochs):\n",
    "\n",
    "    # 학습 데이터와 테스트 데이터 분리\n",
    "    X_train, y_train, X_val, y_val, X_test, y_test, sc = ts_train_val_test(product_df, time_steps)\n",
    "    \n",
    "    # LSTM 모델 학습 및 예측\n",
    "    my_LSTM_model, LSTM_prediction, LSTM_prediction_normalized = LSTM_model(X_train, y_train, X_val, y_val, X_test, sc, epochs)\n",
    "    \n",
    "    # 예측 결과 저장\n",
    "    y_test.reset_index(drop=True, inplace=True)\n",
    "    pred_df = pd.DataFrame({'Pred': LSTM_prediction.reshape(-1) ,'Pred_norm': LSTM_prediction_normalized.reshape(-1)})\n",
    "    res_df = pd.concat([y_test, pred_df], axis=1)\n",
    "    res_df.set_index('Date', inplace=True)\n",
    "    res_df.loc[res_df['Pred']<0, 'Pred']=0\n",
    "    # res_df: ['y', 'y_norm', 'Pred', 'Pred_norm'], index='Date'\n",
    "    res_df = res_df.resample('D').first() # 증강된 데이터가 아닌, Actual값들과 비교\n",
    "        \n",
    "    # 모델과 result_df\n",
    "    return my_LSTM_model, res_df"
   ]
  },
  {
   "cell_type": "markdown",
   "id": "dcbd64a0",
   "metadata": {},
   "source": [
    "## Plot the result"
   ]
  },
  {
   "cell_type": "code",
   "execution_count": 32,
   "id": "6d8fe2e9",
   "metadata": {},
   "outputs": [],
   "source": [
    "def actual_pred_plot(product_code, res_df, metric_df, normalize):\n",
    "    today = date.today()\n",
    "    \"\"\"\n",
    "    Plot the actual vs predition and save the figure in the given directory\n",
    "    \"\"\"\n",
    "    \n",
    "    save_path = os.path.join(\"Result\", \"Single_LSTM_Result\", product_code)\n",
    "    save_name = f'{product_code}_all_result'\n",
    "    \n",
    "    title = f\"Pred Actual Plot - {product_code}\"\n",
    "    actual = res_df['y']\n",
    "    pred = res_df['Pred']\n",
    "    \n",
    "    if normalize: \n",
    "        title += \"(Normalized)\"\n",
    "        actual = res_df['y_norm']\n",
    "        pred = res_df['Pred_norm']\n",
    "        save_name += \"_normalized\"\n",
    "    # Plot   \n",
    "    plt.figure(figsize=(16, 8))\n",
    "    plt.title(title, fontsize=20)\n",
    "    plt.xlabel(\"Time\", fontsize=14)\n",
    "    plt.ylabel(\"Order Demand\", fontsize=14)\n",
    "    plt.plot(actual, label ='Actual', alpha=0.6)\n",
    "    plt.plot(pred, label='Prediction', alpha=0.8)\n",
    "    plt.legend(loc=\"upper right\")\n",
    "        \n",
    "    # Plot 결과 저장\n",
    "    if not os.path.exists(save_path):\n",
    "        os.makedirs(save_path)\n",
    "    # save the figure\n",
    "    today_date = f'_{today.month:02d}{today.day:02d}'\n",
    "    plt.savefig(os.path.join(save_path, save_name+'.png'))\n",
    "    # Metric도 함께 저장\n",
    "    metric_df.to_csv(os.path.join(save_path, save_name+'.csv'))\n",
    "        \n",
    "    plt.close('all') # close all figures to free up memory"
   ]
  },
  {
   "cell_type": "markdown",
   "id": "42c10393",
   "metadata": {},
   "source": [
    "## Save and Load the model "
   ]
  },
  {
   "cell_type": "code",
   "execution_count": 33,
   "id": "db0243bd",
   "metadata": {},
   "outputs": [],
   "source": [
    "def save_model(product_code, best_model):\n",
    "    today = date.today()\n",
    "    folder_path = 'Result/Single_LSTM_Result/Model'\n",
    "    file_name = f'{product_code}_{today.month:02d}{today.day:02d}.pkl'\n",
    "    save_path = os.path.join(folder_path, file_name)\n",
    "    if not os.path.exists(folder_path):\n",
    "        os.makedirs(folder_path)\n",
    "    # 객체를 pickle 파일로 저장\n",
    "    with open(save_path, 'wb') as f:\n",
    "        pickle.dump(best_model, f)\n",
    "    return best_model"
   ]
  },
  {
   "cell_type": "code",
   "execution_count": 34,
   "id": "8e960cd6",
   "metadata": {},
   "outputs": [],
   "source": [
    "def load_model(file_name):\n",
    "    file_path = f'Result/Single_LSTM_Result/Model/{file_name}'\n",
    "    \n",
    "    with open(file_path, 'rb') as file:\n",
    "        model_dict= pickle.load(file)\n",
    "    \n",
    "    return best_model"
   ]
  },
  {
   "cell_type": "markdown",
   "id": "9ddd8454",
   "metadata": {},
   "source": [
    "## Metrics"
   ]
  },
  {
   "cell_type": "code",
   "execution_count": 35,
   "id": "28dd74b4",
   "metadata": {},
   "outputs": [],
   "source": [
    "# Model Metric\n",
    "def mase(training_series, testing_series, prediction_series):\n",
    "    n = training_series.shape[0]\n",
    "    d = np.abs(np.diff(training_series)).sum() / (n-1)\n",
    "    \n",
    "    errors = np.abs(testing_series - prediction_series)\n",
    "    return errors.mean() / d\n",
    "\n",
    "def mape(actual, pred): \n",
    "    actual, pred = np.array(actual), np.array(pred)\n",
    "    return np.mean(np.abs((actual - pred) / (actual+1)))\n",
    "\n",
    "# 정규화 된 지표\n",
    "def nrmse(y_true, y_pred):\n",
    "    mse = mean_squared_error(y_true, y_pred, squared=False)\n",
    "    target_mean = np.mean(y_true)\n",
    "    nrmse = mse / target_mean\n",
    "    return nrmse\n",
    "\n",
    "# 정규화 된 지표\n",
    "def nmae(y_true, y_pred):\n",
    "    mae = mean_absolute_error(y_true, y_pred)\n",
    "    target_mean = np.mean(y_true)\n",
    "    nmae = mae / target_mean\n",
    "    return nmae"
   ]
  },
  {
   "cell_type": "code",
   "execution_count": 36,
   "id": "83451baa",
   "metadata": {},
   "outputs": [],
   "source": [
    "def calculate_metrics(product_code, res_df, normalize):\n",
    "    # 정규화 옵션이 True인 경우 정규화된 데이터 사용, 그렇지 않으면 원래 데이터 사용\n",
    "    if normalize:\n",
    "        actual = res_df['y_norm']\n",
    "        pred = res_df['Pred_norm']\n",
    "    else:\n",
    "        actual = res_df['y']\n",
    "        pred = res_df['Pred']\n",
    "\n",
    "    # 메트릭 계산\n",
    "    # MASE = mase(np.array(train_series), np.array(actual), pred) \n",
    "    MAPE = mape(actual, pred) \n",
    "    RMSE = mean_squared_error(actual, pred)**0.5 \n",
    "    MAE = mean_absolute_error(actual,pred) \n",
    "    NRMSE = nrmse(actual,pred) \n",
    "    NMAE = nmae(actual,pred)\n",
    "    R2 = r2_score(actual,pred) \n",
    "    # RMSLE = mean_squared_log_error(actual, pred)**0.5 \n",
    "\n",
    "    # 계산된 메트릭을 데이터프레임에 추가\n",
    "    metric_df = pd.DataFrame({'MAPE':[round(MAPE, 4)],\n",
    "                           'RMSE':[round(RMSE, 4)],\n",
    "                           'MAE':[round(MAE, 4)],\n",
    "                           'NRMSE':[round(NRMSE, 4)],\n",
    "                           'NMAE':[round(NMAE, 4)],\n",
    "                           'R2':[round(R2, 4)]},\n",
    "                            index= [product_code])\n",
    "\n",
    "    return metric_df"
   ]
  },
  {
   "cell_type": "markdown",
   "id": "073bc376",
   "metadata": {},
   "source": [
    "---"
   ]
  },
  {
   "cell_type": "markdown",
   "id": "e6e45cb6",
   "metadata": {},
   "source": [
    "## Check the Result"
   ]
  },
  {
   "cell_type": "code",
   "execution_count": 40,
   "id": "9ce9ab54",
   "metadata": {},
   "outputs": [],
   "source": [
    "def execute_single_LSTM(product_code, time_steps=30, epochs=20):\n",
    "    start_time = time.time()\n",
    "    product_code = product_code # 예측하고자 하는 코드 입력\n",
    "    product_df = df[df['Product_Code']== product_code].reset_index(drop=True)\n",
    "    product_df = product_df[['Date', 'Order_Demand']]\n",
    "    product_df.rename(columns={'Order_Demand': 'y'}, inplace=True)\n",
    "\n",
    "    # LSTM 단일 모델\n",
    "    model, res_df = LSTM_single(product_df, time_steps, epochs) #dictionary, time_steps, epochs\n",
    "    save_model(product_code, model)\n",
    "    # 모델 Metric과 Pred_Actual Plot 저장\n",
    "    metric_df_norm = calculate_metrics(product_code, res_df, True)\n",
    "    metric_df= calculate_metrics(product_code, res_df, False)\n",
    "    \n",
    "    actual_pred_plot(product_code, res_df, metric_df_norm, True)\n",
    "    actual_pred_plot(product_code, res_df, metric_df, False)\n",
    "    # 실행시간 확인\n",
    "    elapsed_time_seconds = time.time() - start_time\n",
    "    elapsed_time_minutes = elapsed_time_seconds / 60\n",
    "    print(\"실행 시간: {:.2f} 분\".format(elapsed_time_minutes))\n",
    "    return metric_df"
   ]
  },
  {
   "cell_type": "markdown",
   "id": "cd5269ad",
   "metadata": {},
   "source": [
    "---"
   ]
  },
  {
   "cell_type": "markdown",
   "id": "0dd2bffe",
   "metadata": {},
   "source": [
    "## Whole Process\n",
    "    - product_code에 str으로 예측하고자 하는 코드를 입력\n",
    "    - ['Product_0025', 'Product_0739', 'Product_0901', 'Product_1154',\n",
    "       'Product_1248', 'Product_1295', 'Product_1378', 'Product_2004']"
   ]
  },
  {
   "cell_type": "code",
   "execution_count": 79,
   "id": "095eda0a",
   "metadata": {
    "scrolled": true
   },
   "outputs": [
    {
     "name": "stdout",
     "output_type": "stream",
     "text": [
      "636/636 [==============================] - 13s 16ms/step - loss: 0.0011 - mape: 4497069.0000 - mae: 0.0200 - val_loss: 4.6497e-04 - val_mape: 988633.5625 - val_mae: 0.0130\n",
      "91/91 [==============================] - 1s 3ms/step\n",
      "\n",
      "================= END ======================\n",
      "총 실행 시간: 0.25 분\n"
     ]
    }
   ],
   "source": [
    "for code in ['Product_0025', 'Product_0739', 'Product_0901', 'Product_1154',\n",
    "             'Product_1248', 'Product_1295', 'Product_1378', 'Product_2004']:\n",
    "    print(\"==================================\")\n",
    "    print(f\"========== { code } ==========\")\n",
    "    print(\"==================================\")\n",
    "    execute_single_LSTM(code)"
   ]
  }
 ],
 "metadata": {
  "kernelspec": {
   "display_name": "capstone",
   "language": "python",
   "name": "capstone"
  },
  "language_info": {
   "codemirror_mode": {
    "name": "ipython",
    "version": 3
   },
   "file_extension": ".py",
   "mimetype": "text/x-python",
   "name": "python",
   "nbconvert_exporter": "python",
   "pygments_lexer": "ipython3",
   "version": "3.9.16"
  }
 },
 "nbformat": 4,
 "nbformat_minor": 5
}
