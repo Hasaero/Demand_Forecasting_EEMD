{
 "cells": [
  {
   "cell_type": "markdown",
   "id": "2f0367e8",
   "metadata": {},
   "source": [
    "# EEMD + Prophet"
   ]
  },
  {
   "cell_type": "markdown",
   "id": "9353f79f",
   "metadata": {},
   "source": [
    "## Data Description\n",
    "\n",
    "    - Raw data: Historical Product Demand.csv\n",
    "\n",
    "    - Input data: Data on 8x augmentation of demand records by selecting 8 representative items\n",
    "\n",
    "    - Product code: 'Product_0025', 'Product_0739', 'Product_0901', 'Product_1154',\n",
    "                    'Product_1248', 'Product_1295', 'Product_1378', 'Product_2004'\n",
    "            \n",
    "\n",
    "    - Size of Data: 116392 rows × 4 columns\n",
    "\n",
    "    - Features: Date, Product_Code, Product_Category, Order_Demand\n",
    "\n",
    "    - Period: 2012-01-01 ~ 2017-01-09"
   ]
  },
  {
   "cell_type": "markdown",
   "id": "7ba9ee40",
   "metadata": {},
   "source": [
    "---"
   ]
  },
  {
   "cell_type": "code",
   "execution_count": 19,
   "id": "7c9a71a6",
   "metadata": {},
   "outputs": [],
   "source": [
    "# DataFrame\n",
    "import pandas as pd\n",
    "import numpy as np\n",
    "import random\n",
    "import time\n",
    "from datetime import datetime, date\n",
    "\n",
    "# Preprocessing\n",
    "from sklearn.preprocessing import MinMaxScaler\n",
    "from sklearn.preprocessing import RobustScaler\n",
    "import itertools\n",
    "\n",
    "# Visualization\n",
    "import matplotlib.pyplot as plt\n",
    "import seaborn as sns\n",
    "import warnings\n",
    "\n",
    "# Save the log\n",
    "import os\n",
    "import pickle\n",
    "\n",
    "# Prophet \n",
    "from prophet import Prophet\n",
    "from prophet.diagnostics import cross_validation, performance_metrics\n",
    "\n",
    "# EEMD\n",
    "from PyEMD import EEMD\n",
    "\n",
    "# Metric\n",
    "from sklearn.metrics import mean_squared_error\n",
    "from sklearn.metrics import mean_absolute_error\n",
    "from sklearn.metrics import mean_squared_log_error\n",
    "from sklearn.metrics import r2_score"
   ]
  },
  {
   "cell_type": "markdown",
   "id": "6f58e094",
   "metadata": {},
   "source": [
    "## Data Explore"
   ]
  },
  {
   "cell_type": "code",
   "execution_count": 20,
   "id": "e6c8f1d3",
   "metadata": {
    "scrolled": true
   },
   "outputs": [],
   "source": [
    "# # Data Loading\n",
    "# df = pd.read_csv('Data\\HPD_0416.csv')\n",
    "# # convert the string to the datetype\n",
    "# df['Date'] = pd.to_datetime(df['Date'])\n",
    "# # 범위 통일\n",
    "# start_date = pd.to_datetime('2012-01-10')\n",
    "# end_date = pd.to_datetime('2016-12-21')\n",
    "\n",
    "# df = df[(df['Date'] >= start_date) & (df['Date'] <= end_date)]\n",
    "# df = df.reset_index(drop=True)"
   ]
  },
  {
   "cell_type": "code",
   "execution_count": 21,
   "id": "3788dc38",
   "metadata": {},
   "outputs": [],
   "source": [
    "df = pd.read_csv('Data\\\\train.csv')\n",
    "df = df[(df['store']==1)]\n",
    "\n",
    "pd.to_datetime(df['date'].max()) - pd.to_datetime(df['date'].min())\n",
    "df = df.reset_index(drop=True)\n",
    "df.rename(columns={'date': 'Date', 'item':'Product_Code', 'sales':'Order_Demand'}, inplace=True)\n",
    "df = df[['Date', 'Product_Code', 'Order_Demand']]\n",
    "df['Date'] = pd.to_datetime(df['Date'])\n",
    "df['Product_Code'] = df['Product_Code'].astype('str')"
   ]
  },
  {
   "cell_type": "code",
   "execution_count": 22,
   "id": "ed38f8d7",
   "metadata": {},
   "outputs": [
    {
     "name": "stdout",
     "output_type": "stream",
     "text": [
      "<class 'pandas.core.frame.DataFrame'>\n",
      "RangeIndex: 91300 entries, 0 to 91299\n",
      "Data columns (total 3 columns):\n",
      " #   Column        Non-Null Count  Dtype         \n",
      "---  ------        --------------  -----         \n",
      " 0   Date          91300 non-null  datetime64[ns]\n",
      " 1   Product_Code  91300 non-null  object        \n",
      " 2   Order_Demand  91300 non-null  int64         \n",
      "dtypes: datetime64[ns](1), int64(1), object(1)\n",
      "memory usage: 2.1+ MB\n",
      "None\n",
      "-------------------------\n",
      "\n",
      "The Number of unique\n",
      "-------------------------\n",
      "Product code:\t 50\n"
     ]
    },
    {
     "ename": "AttributeError",
     "evalue": "'DataFrame' object has no attribute 'Product_Category'",
     "output_type": "error",
     "traceback": [
      "\u001b[1;31m---------------------------------------------------------------------------\u001b[0m",
      "\u001b[1;31mAttributeError\u001b[0m                            Traceback (most recent call last)",
      "Cell \u001b[1;32mIn[22], line 7\u001b[0m\n\u001b[0;32m      5\u001b[0m \u001b[38;5;28mprint\u001b[39m(\u001b[38;5;124m'\u001b[39m\u001b[38;5;124m-------------------------\u001b[39m\u001b[38;5;124m'\u001b[39m)\n\u001b[0;32m      6\u001b[0m \u001b[38;5;28mprint\u001b[39m(\u001b[38;5;124m'\u001b[39m\u001b[38;5;124mProduct code:\u001b[39m\u001b[38;5;130;01m\\t\u001b[39;00m\u001b[38;5;124m'\u001b[39m, df\u001b[38;5;241m.\u001b[39mProduct_Code\u001b[38;5;241m.\u001b[39mnunique())\n\u001b[1;32m----> 7\u001b[0m \u001b[38;5;28mprint\u001b[39m(\u001b[38;5;124m'\u001b[39m\u001b[38;5;124mCategory:\u001b[39m\u001b[38;5;130;01m\\t\u001b[39;00m\u001b[38;5;124m'\u001b[39m, \u001b[43mdf\u001b[49m\u001b[38;5;241;43m.\u001b[39;49m\u001b[43mProduct_Category\u001b[49m\u001b[38;5;241m.\u001b[39mnunique())\n\u001b[0;32m      8\u001b[0m \u001b[38;5;28mprint\u001b[39m(\u001b[38;5;124m'\u001b[39m\u001b[38;5;124m-------------------------\u001b[39m\u001b[38;5;124m'\u001b[39m)\n\u001b[0;32m      9\u001b[0m \u001b[38;5;28mprint\u001b[39m(\u001b[38;5;124m\"\u001b[39m\u001b[38;5;124mThe Product Code:\u001b[39m\u001b[38;5;124m\"\u001b[39m)\n",
      "File \u001b[1;32m~\\anaconda3\\envs\\EEMD+LSTM\\lib\\site-packages\\pandas\\core\\generic.py:5989\u001b[0m, in \u001b[0;36mNDFrame.__getattr__\u001b[1;34m(self, name)\u001b[0m\n\u001b[0;32m   5982\u001b[0m \u001b[38;5;28;01mif\u001b[39;00m (\n\u001b[0;32m   5983\u001b[0m     name \u001b[38;5;129;01mnot\u001b[39;00m \u001b[38;5;129;01min\u001b[39;00m \u001b[38;5;28mself\u001b[39m\u001b[38;5;241m.\u001b[39m_internal_names_set\n\u001b[0;32m   5984\u001b[0m     \u001b[38;5;129;01mand\u001b[39;00m name \u001b[38;5;129;01mnot\u001b[39;00m \u001b[38;5;129;01min\u001b[39;00m \u001b[38;5;28mself\u001b[39m\u001b[38;5;241m.\u001b[39m_metadata\n\u001b[0;32m   5985\u001b[0m     \u001b[38;5;129;01mand\u001b[39;00m name \u001b[38;5;129;01mnot\u001b[39;00m \u001b[38;5;129;01min\u001b[39;00m \u001b[38;5;28mself\u001b[39m\u001b[38;5;241m.\u001b[39m_accessors\n\u001b[0;32m   5986\u001b[0m     \u001b[38;5;129;01mand\u001b[39;00m \u001b[38;5;28mself\u001b[39m\u001b[38;5;241m.\u001b[39m_info_axis\u001b[38;5;241m.\u001b[39m_can_hold_identifiers_and_holds_name(name)\n\u001b[0;32m   5987\u001b[0m ):\n\u001b[0;32m   5988\u001b[0m     \u001b[38;5;28;01mreturn\u001b[39;00m \u001b[38;5;28mself\u001b[39m[name]\n\u001b[1;32m-> 5989\u001b[0m \u001b[38;5;28;01mreturn\u001b[39;00m \u001b[38;5;28;43mobject\u001b[39;49m\u001b[38;5;241;43m.\u001b[39;49m\u001b[38;5;21;43m__getattribute__\u001b[39;49m\u001b[43m(\u001b[49m\u001b[38;5;28;43mself\u001b[39;49m\u001b[43m,\u001b[49m\u001b[43m \u001b[49m\u001b[43mname\u001b[49m\u001b[43m)\u001b[49m\n",
      "\u001b[1;31mAttributeError\u001b[0m: 'DataFrame' object has no attribute 'Product_Category'"
     ]
    }
   ],
   "source": [
    "print(df.info())\n",
    "print('-------------------------')\n",
    "print(\"\")\n",
    "print(\"The Number of unique\")\n",
    "print('-------------------------')\n",
    "print('Product code:\\t', df.Product_Code.nunique())\n",
    "print('Category:\\t', df.Product_Category.nunique())\n",
    "print('-------------------------')\n",
    "print(\"The Product Code:\")\n",
    "print(\"\")\n",
    "for i, code in enumerate(df['Product_Code'].unique()):\n",
    "    print(i+1, code)"
   ]
  },
  {
   "cell_type": "markdown",
   "id": "76850788",
   "metadata": {},
   "source": [
    "---"
   ]
  },
  {
   "cell_type": "markdown",
   "id": "5082c250",
   "metadata": {},
   "source": [
    "## Split the data\n",
    "- Input\n",
    "     data: dataframe with dates and Demand data\n",
    "     \n",
    "- output\n",
    "    - train:  2012-01-01 ~ 2015-06/30 \n",
    "    - valid:  2015-07-01 ~ 2015-12-31\n",
    "    - test :  2016-01-01 ~ 2017-01-06 \n",
    "    \n",
    "    \n",
    "     \n",
    "- time_steps: # of the input time steps \n",
    "- for_periods: # of the output time steps "
   ]
  },
  {
   "cell_type": "code",
   "execution_count": 23,
   "id": "752aaf8e",
   "metadata": {},
   "outputs": [],
   "source": [
    "def split_data(df, forecast_period):\n",
    "    df = df.sort_values('ds')\n",
    "    \n",
    "    test_df = df[-forecast_period:]  # 뒤에서 forecast_period 개의 데이터\n",
    "    valid_df = df[-2*forecast_period:-forecast_period]  # 뒤에서 2*forecast_period 번째부터 forecast_period 번째까지의 데이터\n",
    "    train_df = df[:-2*forecast_period]  # 나머지 데이터\n",
    "    \n",
    "    return train_df, valid_df, test_df"
   ]
  },
  {
   "cell_type": "markdown",
   "id": "07916726",
   "metadata": {},
   "source": [
    "## EEMD\n",
    "    - 시계열 그래프를 ensembled IMF (앙상블 내재모드 함수)로 분해\n",
    "    - n 개의 eIMFs와  1개의 Residual 생성"
   ]
  },
  {
   "cell_type": "code",
   "execution_count": 24,
   "id": "b907c208",
   "metadata": {},
   "outputs": [],
   "source": [
    "def eemd_fit(product_df, eemd_trials=100):\n",
    "    \n",
    "    # Define signal\n",
    "    t = np.array(product_df['ds'])\n",
    "    s = np.array(product_df['y'])\n",
    "    \n",
    "    # EEMD 객체 생성하기\n",
    "    eemd = EEMD(eemd_trials)\n",
    "    \n",
    "    # eIMFs로 분해\n",
    "    eIMFs = eemd.eemd(s, t) # max_imf: IMF 제한 개수(-1: 없음)\n",
    "    nIMFs = eIMFs.shape[0]\n",
    "    \n",
    "    # 분해된 eIMFs와 잔차 추출하기\n",
    "    imfs, residue = eemd.get_imfs_and_residue()\n",
    "    \n",
    "    # 앙상블 IMFs 들의 DataFrame 생성\n",
    "    all_eIMFs_df = pd.DataFrame(eIMFs).transpose()\n",
    "    all_eIMFs_df[nIMFs] = residue # residue 열 추가\n",
    "    all_eIMFs_df.insert(0, 'ds', product_df['ds']) # add 'ds' column for implementing prophet\n",
    "\n",
    "    return all_eIMFs_df, nIMFs # eIMF+Residue들로 이루어진 df, eIMF의 개수"
   ]
  },
  {
   "cell_type": "markdown",
   "id": "f76e4a8c",
   "metadata": {},
   "source": [
    "### eIMFs 데이터프레임 추출"
   ]
  },
  {
   "cell_type": "code",
   "execution_count": 25,
   "id": "265e715d",
   "metadata": {},
   "outputs": [],
   "source": [
    "# eIMF들을 추출하여, Date와 y로 이루어진 데이터프레임 추출하고 딕셔너리에 저장\n",
    "def extract_eIMFs(all_eIMFs_df, nIMFs):\n",
    "    all_eIMFs_dict = {}\n",
    "    # IMF개수+Residue(1) 만큼 반복\n",
    "    for i in range(nIMFs+1):\n",
    "        tmp_df = all_eIMFs_df[['ds', i]] # n번째 eIMF에 해당하는 날짜와 값 추출\n",
    "        tmp_df.columns=['ds', 'y'] # i -> y 로 열이름 변경\n",
    "        all_eIMFs_dict[f'eIMFs_{i}'] = tmp_df # n번째 eIMF 정보(마지막은 Residue) 딕셔너리에 저장\n",
    "                           # df: ds, y 2열로 이루어진 dataFrame\n",
    "    return all_eIMFs_dict # {eIMFs_1: df1, eIMFs_2: df2, ...} "
   ]
  },
  {
   "cell_type": "markdown",
   "id": "ec93c929",
   "metadata": {},
   "source": [
    "# EEMD+Prophet"
   ]
  },
  {
   "cell_type": "markdown",
   "id": "a2cfc834",
   "metadata": {},
   "source": [
    "### Optimize the hyper-parameters\n",
    "    - Random Search"
   ]
  },
  {
   "cell_type": "code",
   "execution_count": 26,
   "id": "465d7436",
   "metadata": {},
   "outputs": [],
   "source": [
    "def optimize_prophet(eIMF_df, valid_df, optimize_trials, forecast_period):\n",
    "    # 파라미터 후보\n",
    "    param_grid = {  \n",
    "        'changepoint_prior_scale': [0.01, 0.1, 1, 10],\n",
    "        'seasonality_prior_scale': [0.01, 0.1, 1, 10, 100],\n",
    "        'seasonality_mode': ['additive', 'multiplicative'],\n",
    "        'changepoint_range': [0.8, 0.9, 1.0],\n",
    "        }\n",
    "    \n",
    "    # 파라미터 조합 생성\n",
    "    all_params = [dict(zip(param_grid.keys(), v)) for v in itertools.product(*param_grid.values())]\n",
    "    rmses = []  \n",
    "    cutoff = pd.to_datetime(valid_df['ds'].max())  \n",
    "\n",
    "    # 랜덤 샘플링으로 50개의 조합 선택\n",
    "    selected_params = random.sample(all_params, optimize_trials)\n",
    "    \n",
    "    # 파리미터 평가를 위해 validation_data로 cv진행\n",
    "    for params in selected_params:\n",
    "        m = Prophet(**params)\n",
    "        m.add_country_holidays(country_name='US')  # 미국 공휴일 추가\n",
    "        m.fit(eIMF_df)\n",
    "        # validation 기간에 대해 예측\n",
    "        df_cv = cross_validation(m, cutoffs=[cutoff], horizon=str(forecast_period)+' days')  \n",
    "        # rolling_window: cut-off를 기준으로 몇 일의 성능을 계산할지 결정(1: 전체 기간동안의 성능)\n",
    "        df_p = performance_metrics(df_cv, rolling_window=1)\n",
    "        rmses.append(df_p['rmse'].values[0])\n",
    "        \n",
    "    best_params = selected_params[np.argmin(rmses)]\n",
    "    return best_params"
   ]
  },
  {
   "cell_type": "code",
   "execution_count": 27,
   "id": "53cae742",
   "metadata": {},
   "outputs": [],
   "source": [
    "'''\n",
    "eIMFs의 DataFrame을 하나씩 반복하면서,\n",
    "Random search를 통해 Prophet 파라미터의 최적값을 찾고,\n",
    "각 eIMFs들을 예측하고 예측 DataFrame을 Return\n",
    "'''\n",
    "def EEMD_Prophet(all_eIMFs_dict, forecast_period, optimize_trials): # optimize_trials: Search 횟수\n",
    "    model_dict = {}\n",
    "    pred_dict = {}\n",
    "    train_dict = {}\n",
    "    for i in all_eIMFs_dict.keys():\n",
    "        print(f'--------Total: 0~{len(all_eIMFs_dict)-1} eIMFs, Now: {i} --------')\n",
    "        \n",
    "        # 현재 eIMF 데이터 가져오기\n",
    "        eIMF_df = all_eIMFs_dict[i]\n",
    "        train_df, valid_df, test_df = split_data(eIMF_df, forecast_period)\n",
    "        train_dict[i] = train_df\n",
    "        # 파라미터 최적화\n",
    "        best_params = optimize_prophet(eIMF_df, valid_df, optimize_trials, forecast_period)\n",
    "        \n",
    "        # 최적 파라미터를 사용한 모델 훈련\n",
    "        best_model = Prophet(**best_params)\n",
    "        best_model.add_country_holidays(country_name='US')\n",
    "        best_model.fit(train_df)\n",
    "        # save the best model\n",
    "        model_dict[i] = best_model\n",
    "        # Prophet으로 예측\n",
    "        periods=(test_df['ds'].max() - train_df['ds'].max()).days\n",
    "        future = best_model.make_future_dataframe(periods=periods)\n",
    "        forecast = best_model.predict(future)\n",
    "        \n",
    "        # Result DataFrame 생성\n",
    "        res_df = pd.merge(test_df, forecast[['ds','yhat']], on='ds')\n",
    "        res_df = res_df[['ds', 'y', 'yhat']]\n",
    "        res_df.rename(columns={'yhat': 'Pred'}, inplace=True)\n",
    "        \n",
    "        # 'y'와 'yhat' 열을 정규화\n",
    "        scaler = MinMaxScaler()\n",
    "        res_df[['y_norm', 'Pred_norm']] = scaler.fit_transform(res_df[['y', 'Pred']])\n",
    "        res_df.set_index('ds', inplace=True)\n",
    "        \n",
    "        # 증강되지 않은 데이터와 비교 \n",
    "        pred_dict[i] = res_df # res_df: ['y'','Pred','y_norm','Pred_norm'] index='ds'\n",
    "        \n",
    "        # 모델과 예측값 딕셔너리 반환\n",
    "    return model_dict, pred_dict, train_dict"
   ]
  },
  {
   "cell_type": "markdown",
   "id": "016e3355",
   "metadata": {},
   "source": [
    "## Total Result"
   ]
  },
  {
   "cell_type": "code",
   "execution_count": 28,
   "id": "f8b01419",
   "metadata": {},
   "outputs": [],
   "source": [
    "def make_all_result_df(pred_dict):\n",
    "    all_df = pd.DataFrame()\n",
    "    for tmp_df in pred_dict.values():\n",
    "        all_df = pd.concat([all_df, tmp_df], axis=1)\n",
    "    pred_df = all_df['Pred'].sum(axis=1)\n",
    "    actual_df = all_df['y'].sum(axis=1)\n",
    "    \n",
    "    all_result_df = pd.DataFrame({'Pred': pred_df, 'y': actual_df})\n",
    "    all_result_df.loc[all_result_df['Pred']<0, 'Pred']=0 # 음수 예측 값은 0으로 대치\n",
    "    \n",
    "    # 날짜(Date) 열은 정규화하지 않으므로 제외\n",
    "    result_norm = all_result_df[['Pred', 'y']]\n",
    "    \n",
    "    # MinMaxScaler를 이용하여 정규화\n",
    "    scaler = MinMaxScaler()\n",
    "    normalized_data = scaler.fit_transform(result_norm)\n",
    "    \n",
    "    # 정규화된 데이터를 데이터 프레임에 추가\n",
    "    all_result_df['Pred_norm'] = normalized_data[:,0]\n",
    "    all_result_df['y_norm'] = normalized_data[:,1]\n",
    "    return all_result_df"
   ]
  },
  {
   "cell_type": "markdown",
   "id": "dcbd64a0",
   "metadata": {},
   "source": [
    "# Plot the result"
   ]
  },
  {
   "cell_type": "code",
   "execution_count": 29,
   "id": "6d8fe2e9",
   "metadata": {},
   "outputs": [],
   "source": [
    "def actual_pred_plot(product_code, pred_dict, all_result_df, metric_df, normalize=False):\n",
    "    today = date.today()\n",
    "    \"\"\"\n",
    "    Plot the actual vs predition and save the figure in the given directory\n",
    "    \"\"\"\n",
    "    pred_dict['all_result'] = all_result_df\n",
    "    \n",
    "    save_path = os.path.join(\"Result\", \"EEMD+Prophet_Result\", product_code+f'_{today.month:02d}{today.day:02d}')\n",
    "    if normalize: save_path += \"_normalized\"\n",
    "        \n",
    "    for i, pred_df in enumerate(pred_dict.values()):\n",
    "        img_n = len(pred_dict)\n",
    "        title = f\"Pred Actual Plot - ({i+1}/{len(pred_dict)-1})'s eIMF\"\n",
    "        actual = pred_df['y']\n",
    "        pred = pred_df['Pred']\n",
    "        save_name = f'{product_code}_eIMF_{i+1}'\n",
    "        if i == img_n-1: # All result\n",
    "            title = f\"{product_code}-All Result\"\n",
    "            save_name = f'{product_code}_all_result'\n",
    "        # 정규화 된 경우 actual, pred 값 달라짐\n",
    "        if normalize:\n",
    "            title += \"(Normalized)\"\n",
    "            actual = pred_df['y_norm']\n",
    "            pred = pred_df['Pred_norm']\n",
    "            \n",
    "        plt.figure(figsize=(16, 8))\n",
    "        plt.title(title, fontsize=20)\n",
    "        plt.xlabel(\"Time\", fontsize=14)\n",
    "        plt.ylabel(\"Order Demand\", fontsize=14)\n",
    "        plt.plot(actual, label ='Actual', marker='o', ms=3)\n",
    "        plt.plot(pred, label='Prediction', marker='o', ms=3)\n",
    "        plt.legend(loc=\"upper right\")\n",
    "        \n",
    "        # Plot 결과 저장\n",
    "        if not os.path.exists(save_path):\n",
    "            os.makedirs(save_path)\n",
    "        # save the figure\n",
    "        today_date = f'_{today.month:02d}{today.day:02d}'\n",
    "        plt.savefig(os.path.join(save_path, save_name+'.png'))\n",
    "    # Metric도 함께 저장\n",
    "    metric_df.to_csv(os.path.join(save_path, f'{product_code}_Metric.csv'))\n",
    "    all_result_df.to_csv(os.path.join(save_path, f'{product_code}_Total_result.csv'))\n",
    "    del pred_dict['all_result']\n",
    "        \n",
    "    plt.close('all') # close all figures to free up memory"
   ]
  },
  {
   "cell_type": "markdown",
   "id": "9ddd8454",
   "metadata": {},
   "source": [
    "## Metrics"
   ]
  },
  {
   "cell_type": "code",
   "execution_count": 30,
   "id": "28dd74b4",
   "metadata": {},
   "outputs": [],
   "source": [
    "# Model Metric\n",
    "def mase(actual, pred, train):\n",
    "    \"\"\"\n",
    "    actual: 실제 값이 저장된 1차원 배열\n",
    "    pred: 예측 값이 저장된 1차원 배열\n",
    "    train: 인-샘플 데이터(즉, 훈련 데이터)가 저장된 1차원 배열\n",
    "    \"\"\"\n",
    "    actual, pred, train = np.array(actual), np.array(pred), np.array(train)\n",
    "    n = len(actual)\n",
    "    d = np.abs(actual - pred)\n",
    "    d_naive = np.abs(train[1:] - train[:-1]).mean()  # train의 naive pred\n",
    "    return d.mean() / d_naive\n",
    "\n",
    "def mape(actual, pred): \n",
    "    actual, pred = np.array(actual), np.array(pred)\n",
    "    return np.mean(np.abs((actual - pred) / (actual+1)))\n",
    "\n",
    "# 정규화 된 지표\n",
    "def nrmse(y_true, y_pred):\n",
    "    mse = mean_squared_error(y_true, y_pred, squared=False)\n",
    "    target_mean = np.mean(y_true)\n",
    "    nrmse = mse / target_mean\n",
    "    return nrmse\n",
    "\n",
    "# 정규화 된 지표\n",
    "def nmae(y_true, y_pred):\n",
    "    mae = mean_absolute_error(y_true, y_pred)\n",
    "    target_mean = np.mean(y_true)\n",
    "    nmae = mae / target_mean\n",
    "    return nmae"
   ]
  },
  {
   "cell_type": "code",
   "execution_count": 31,
   "id": "83451baa",
   "metadata": {},
   "outputs": [],
   "source": [
    "def calculate_metrics(pred_df, normalize):\n",
    "    # 계산된 메트릭을 저장하기 위해 데이터프레임 초기화\n",
    "    metric_df = pd.DataFrame(columns=['MAPE', 'RMSE', 'MAE', 'NRMSE', 'NMAE', 'R2'])\n",
    "\n",
    "    # 정규화 옵션이 True인 경우 정규화된 데이터 사용, 그렇지 않으면 원래 데이터 사용\n",
    "    if normalize:\n",
    "        actual = pred_df['y_norm']\n",
    "        pred = pred_df['Pred_norm']\n",
    "    else:\n",
    "        actual = pred_df['y']\n",
    "        pred = pred_df['Pred']\n",
    "\n",
    "    # 메트릭 계산\n",
    "    # MASE = mase(np.array(train_series), np.array(actual), pred) \n",
    "    MAPE = mape(actual, pred) \n",
    "    RMSE = mean_squared_error(actual, pred)**0.5 \n",
    "    MAE = mean_absolute_error(actual,pred) \n",
    "    NRMSE = nrmse(actual,pred) \n",
    "    NMAE = nmae(actual,pred) \n",
    "    R2 = r2_score(actual, pred)\n",
    "    # RMSLE = mean_squared_log_error(actual, pred)**0.5 \n",
    "\n",
    "    # 계산된 메트릭을 데이터프레임에 추가\n",
    "    tmp_df = pd.DataFrame({'MAPE':[round(MAPE, 2)],\n",
    "                           'RMSE':[round(RMSE, 2)],\n",
    "                           'MAE':[round(MAE, 2)],\n",
    "                           'NRMSE':[round(NRMSE, 2)],\n",
    "                           'NMAE':[round(NMAE, 4)],\n",
    "                           'R2':[round(R2, 4)]})\n",
    "\n",
    "    # 메트릭 데이터프레임에 결과 추가\n",
    "    metric_df = pd.concat([metric_df, tmp_df])\n",
    "    return metric_df"
   ]
  },
  {
   "cell_type": "code",
   "execution_count": 32,
   "id": "e560ce75",
   "metadata": {},
   "outputs": [],
   "source": [
    "def make_metric_df(product_code, pred_dict, all_result_df, normalize):\n",
    "    today = date.today()\n",
    "\n",
    "    metric_df = pd.DataFrame(columns=['MAPE', 'RMSE', 'MAE', 'NRMSE', 'NMAE', 'R2'])\n",
    "    for i, pred_df in pred_dict.items():\n",
    "        imf_df = calculate_metrics(pred_df, normalize=normalize)\n",
    "        metric_df = pd.concat([metric_df, imf_df])\n",
    "    \n",
    "    imf_idx = pd.Index(['eIMF_'+str(i+1) for i in range(len(pred_dict))]) # changed result_dict to pred_dict\n",
    "    metric_df.index = imf_idx # Assign the created index to metric_df\n",
    "    metric_df = pd.concat([metric_df, calculate_metrics(all_result_df, normalize=normalize)], axis=0)\n",
    "    metric_df = metric_df.rename(index={metric_df.index[-1]: 'All'}) # 마지막 행은 all\n",
    "    \n",
    "    return metric_df"
   ]
  },
  {
   "cell_type": "markdown",
   "id": "073bc376",
   "metadata": {},
   "source": [
    "---"
   ]
  },
  {
   "cell_type": "markdown",
   "id": "848e0b41",
   "metadata": {},
   "source": [
    "## Save and Load the model "
   ]
  },
  {
   "cell_type": "code",
   "execution_count": 33,
   "id": "c8130db1",
   "metadata": {},
   "outputs": [],
   "source": [
    "def save_model(product_code, model_dict):\n",
    "    today = date.today()\n",
    "    folder_path = 'Result/EEMD+Prophet_Result/Model'\n",
    "    file_name = f'{product_code}_{today.month:02d}{today.day:02d}.pkl'\n",
    "    save_path = os.path.join(folder_path, file_name)\n",
    "    if not os.path.exists(folder_path):\n",
    "        os.makedirs(folder_path)\n",
    "    # 객체를 pickle 파일로 저장\n",
    "    with open(save_path, 'wb') as f:\n",
    "        pickle.dump(model_dict, f)\n",
    "    return model_dict"
   ]
  },
  {
   "cell_type": "code",
   "execution_count": 34,
   "id": "626bb1f3",
   "metadata": {},
   "outputs": [],
   "source": [
    "# 학습된 모델 pickle파일에서 불러오기\n",
    "def load_model(file_name):\n",
    "    file_path = f'Result/EEMD+Prophet_Result/Model/{file_name}'\n",
    "    \n",
    "    with open(file_path, 'rb') as file:\n",
    "        model_dict= pickle.load(file)\n",
    "    \n",
    "    return model_dict"
   ]
  },
  {
   "cell_type": "markdown",
   "id": "21eafe3d",
   "metadata": {},
   "source": [
    "## Execute"
   ]
  },
  {
   "cell_type": "code",
   "execution_count": 35,
   "id": "9ce9ab54",
   "metadata": {},
   "outputs": [],
   "source": [
    "def execute_EEMD_Prophet(product_code, eemd_trials=100, optimize_trials=30, forecast_period=90):\n",
    "    start_time = time.time()\n",
    "    \n",
    "    product_code = product_code # 예측하고자 하는 코드 입력\n",
    "    product_df = df[df['Product_Code']== product_code].reset_index(drop=True)\n",
    "    # Prophet을 위해 열이름 변경 -> ['ds', 'y']\n",
    "    product_df.rename(columns={'Date':'ds', 'Order_Demand':'y'}, inplace=True)\n",
    "    \n",
    "    # EEMD 수행\n",
    "    all_eIMFs_df, nIMFs = eemd_fit(product_df, eemd_trials)\n",
    "    # EEMD 결과에서 각 eIMFs' DF 추출\n",
    "    all_eIMFs_dict = extract_eIMFs(all_eIMFs_df, nIMFs)\n",
    "    # EEMD+Prophet실행\n",
    "    model_dict, pred_dict, train_dict = EEMD_Prophet(all_eIMFs_dict, forecast_period, optimize_trials) #optimize trials\n",
    "    all_result_df = make_all_result_df(pred_dict)\n",
    "    \n",
    "    # 모델 저장\n",
    "    save_model(product_code, model_dict)\n",
    "    # 결과 저장\n",
    "    metric_df_norm = make_metric_df(product_code, pred_dict, all_result_df, True)\n",
    "    metric_df      = make_metric_df(product_code, pred_dict, all_result_df, False)\n",
    "    # plot 저장\n",
    "    actual_pred_plot(product_code, pred_dict, all_result_df, metric_df_norm, True)\n",
    "    actual_pred_plot(product_code, pred_dict, all_result_df, metric_df, False)\n",
    "    \n",
    "    # 실행시간 확인\n",
    "    elapsed_time_seconds = time.time() - start_time\n",
    "    elapsed_time_minutes = elapsed_time_seconds / 60\n",
    "    print(\"실행 시간: {:.2f} 분\".format(elapsed_time_minutes))\n",
    "    return metric_df"
   ]
  },
  {
   "cell_type": "markdown",
   "id": "cd5269ad",
   "metadata": {},
   "source": [
    "---"
   ]
  },
  {
   "cell_type": "markdown",
   "id": "0dd2bffe",
   "metadata": {},
   "source": [
    "## Whole Process\n",
    "    - product_code에 str으로 예측하고자 하는 코드를 입력\n",
    "    - ['Product_0025', 'Product_0739', 'Product_0901', 'Product_1154',\n",
    "       'Product_1248', 'Product_1295', 'Product_1378', 'Product_2004']"
   ]
  },
  {
   "cell_type": "code",
   "execution_count": 36,
   "id": "74b77ae9",
   "metadata": {},
   "outputs": [],
   "source": [
    "codes = ['1', '2', '3', '4', '5']"
   ]
  },
  {
   "cell_type": "code",
   "execution_count": 37,
   "id": "b4cb7c7e",
   "metadata": {},
   "outputs": [],
   "source": [
    "# codes = ['Product_0025', 'Product_0739', 'Product_0901', 'Product_1154',\n",
    "#          'Product_1248', 'Product_1295', 'Product_1378', 'Product_2004']"
   ]
  },
  {
   "cell_type": "code",
   "execution_count": 38,
   "id": "095eda0a",
   "metadata": {
    "scrolled": true
   },
   "outputs": [
    {
     "name": "stdout",
     "output_type": "stream",
     "text": [
      "==================================\n",
      "========== 1 ==========\n",
      "==================================\n",
      "--------Total: 0~10 eIMFs, Now: eIMFs_0 --------\n"
     ]
    },
    {
     "name": "stderr",
     "output_type": "stream",
     "text": [
      "21:43:26 - cmdstanpy - INFO - Chain [1] start processing\n",
      "21:43:27 - cmdstanpy - INFO - Chain [1] done processing\n"
     ]
    },
    {
     "data": {
      "application/vnd.jupyter.widget-view+json": {
       "model_id": "371a1812c6644c95bea5ca7146561781",
       "version_major": 2,
       "version_minor": 0
      },
      "text/plain": [
       "  0%|          | 0/1 [00:00<?, ?it/s]"
      ]
     },
     "metadata": {},
     "output_type": "display_data"
    },
    {
     "name": "stderr",
     "output_type": "stream",
     "text": [
      "21:43:27 - cmdstanpy - INFO - Chain [1] start processing\n",
      "21:43:28 - cmdstanpy - INFO - Chain [1] done processing\n",
      "21:43:29 - cmdstanpy - INFO - Chain [1] start processing\n",
      "21:43:30 - cmdstanpy - INFO - Chain [1] done processing\n"
     ]
    },
    {
     "data": {
      "application/vnd.jupyter.widget-view+json": {
       "model_id": "2d9716fe031847b2a178d14ef2528efd",
       "version_major": 2,
       "version_minor": 0
      },
      "text/plain": [
       "  0%|          | 0/1 [00:00<?, ?it/s]"
      ]
     },
     "metadata": {},
     "output_type": "display_data"
    },
    {
     "name": "stderr",
     "output_type": "stream",
     "text": [
      "21:43:30 - cmdstanpy - INFO - Chain [1] start processing\n",
      "21:43:30 - cmdstanpy - INFO - Chain [1] done processing\n",
      "21:43:31 - cmdstanpy - INFO - Chain [1] start processing\n",
      "21:43:31 - cmdstanpy - INFO - Chain [1] done processing\n"
     ]
    },
    {
     "data": {
      "application/vnd.jupyter.widget-view+json": {
       "model_id": "2853edade2124d64877d6399127e3706",
       "version_major": 2,
       "version_minor": 0
      },
      "text/plain": [
       "  0%|          | 0/1 [00:00<?, ?it/s]"
      ]
     },
     "metadata": {},
     "output_type": "display_data"
    },
    {
     "name": "stderr",
     "output_type": "stream",
     "text": [
      "21:43:31 - cmdstanpy - INFO - Chain [1] start processing\n",
      "21:43:31 - cmdstanpy - INFO - Chain [1] done processing\n",
      "21:43:32 - cmdstanpy - INFO - Chain [1] start processing\n",
      "21:43:32 - cmdstanpy - INFO - Chain [1] done processing\n"
     ]
    },
    {
     "data": {
      "application/vnd.jupyter.widget-view+json": {
       "model_id": "676843fcf3514391a64f6176ae596164",
       "version_major": 2,
       "version_minor": 0
      },
      "text/plain": [
       "  0%|          | 0/1 [00:00<?, ?it/s]"
      ]
     },
     "metadata": {},
     "output_type": "display_data"
    },
    {
     "name": "stderr",
     "output_type": "stream",
     "text": [
      "21:43:32 - cmdstanpy - INFO - Chain [1] start processing\n",
      "21:43:32 - cmdstanpy - INFO - Chain [1] done processing\n",
      "21:43:33 - cmdstanpy - INFO - Chain [1] start processing\n",
      "21:43:33 - cmdstanpy - INFO - Chain [1] done processing\n"
     ]
    },
    {
     "data": {
      "application/vnd.jupyter.widget-view+json": {
       "model_id": "d5fbada25e4d42eabd02e492e3209565",
       "version_major": 2,
       "version_minor": 0
      },
      "text/plain": [
       "  0%|          | 0/1 [00:00<?, ?it/s]"
      ]
     },
     "metadata": {},
     "output_type": "display_data"
    },
    {
     "name": "stderr",
     "output_type": "stream",
     "text": [
      "21:43:33 - cmdstanpy - INFO - Chain [1] start processing\n",
      "21:43:33 - cmdstanpy - INFO - Chain [1] done processing\n",
      "21:43:34 - cmdstanpy - INFO - Chain [1] start processing\n",
      "21:43:34 - cmdstanpy - INFO - Chain [1] done processing\n"
     ]
    },
    {
     "data": {
      "application/vnd.jupyter.widget-view+json": {
       "model_id": "bba6cb1e8f554d1397cd86f192dd35df",
       "version_major": 2,
       "version_minor": 0
      },
      "text/plain": [
       "  0%|          | 0/1 [00:00<?, ?it/s]"
      ]
     },
     "metadata": {},
     "output_type": "display_data"
    },
    {
     "name": "stderr",
     "output_type": "stream",
     "text": [
      "21:43:34 - cmdstanpy - INFO - Chain [1] start processing\n",
      "21:43:34 - cmdstanpy - INFO - Chain [1] done processing\n",
      "21:43:35 - cmdstanpy - INFO - Chain [1] start processing\n",
      "21:43:35 - cmdstanpy - INFO - Chain [1] done processing\n"
     ]
    },
    {
     "data": {
      "application/vnd.jupyter.widget-view+json": {
       "model_id": "1ddaae78eabe47ada484029d1cbf056e",
       "version_major": 2,
       "version_minor": 0
      },
      "text/plain": [
       "  0%|          | 0/1 [00:00<?, ?it/s]"
      ]
     },
     "metadata": {},
     "output_type": "display_data"
    },
    {
     "name": "stderr",
     "output_type": "stream",
     "text": [
      "21:43:35 - cmdstanpy - INFO - Chain [1] start processing\n",
      "21:43:35 - cmdstanpy - INFO - Chain [1] done processing\n",
      "21:43:36 - cmdstanpy - INFO - Chain [1] start processing\n",
      "21:43:37 - cmdstanpy - INFO - Chain [1] done processing\n"
     ]
    },
    {
     "data": {
      "application/vnd.jupyter.widget-view+json": {
       "model_id": "03ba1936e10b433bb31558f36872c123",
       "version_major": 2,
       "version_minor": 0
      },
      "text/plain": [
       "  0%|          | 0/1 [00:00<?, ?it/s]"
      ]
     },
     "metadata": {},
     "output_type": "display_data"
    },
    {
     "name": "stderr",
     "output_type": "stream",
     "text": [
      "21:43:37 - cmdstanpy - INFO - Chain [1] start processing\n",
      "21:43:38 - cmdstanpy - INFO - Chain [1] done processing\n",
      "21:43:38 - cmdstanpy - INFO - Chain [1] start processing\n",
      "21:43:38 - cmdstanpy - INFO - Chain [1] done processing\n"
     ]
    },
    {
     "data": {
      "application/vnd.jupyter.widget-view+json": {
       "model_id": "238d3a34a77348bea34f41d706e80176",
       "version_major": 2,
       "version_minor": 0
      },
      "text/plain": [
       "  0%|          | 0/1 [00:00<?, ?it/s]"
      ]
     },
     "metadata": {},
     "output_type": "display_data"
    },
    {
     "name": "stderr",
     "output_type": "stream",
     "text": [
      "21:43:39 - cmdstanpy - INFO - Chain [1] start processing\n",
      "21:43:39 - cmdstanpy - INFO - Chain [1] done processing\n",
      "21:43:39 - cmdstanpy - INFO - Chain [1] start processing\n",
      "21:43:39 - cmdstanpy - INFO - Chain [1] done processing\n"
     ]
    },
    {
     "data": {
      "application/vnd.jupyter.widget-view+json": {
       "model_id": "e26255b2714c4b40a7ad74dc6587a8b5",
       "version_major": 2,
       "version_minor": 0
      },
      "text/plain": [
       "  0%|          | 0/1 [00:00<?, ?it/s]"
      ]
     },
     "metadata": {},
     "output_type": "display_data"
    },
    {
     "name": "stderr",
     "output_type": "stream",
     "text": [
      "21:43:40 - cmdstanpy - INFO - Chain [1] start processing\n",
      "21:43:40 - cmdstanpy - INFO - Chain [1] done processing\n",
      "21:43:40 - cmdstanpy - INFO - Chain [1] start processing\n",
      "21:43:41 - cmdstanpy - INFO - Chain [1] done processing\n"
     ]
    },
    {
     "data": {
      "application/vnd.jupyter.widget-view+json": {
       "model_id": "79b4c15fae914f69a6946da51d631b32",
       "version_major": 2,
       "version_minor": 0
      },
      "text/plain": [
       "  0%|          | 0/1 [00:00<?, ?it/s]"
      ]
     },
     "metadata": {},
     "output_type": "display_data"
    },
    {
     "name": "stderr",
     "output_type": "stream",
     "text": [
      "21:43:41 - cmdstanpy - INFO - Chain [1] start processing\n",
      "21:43:42 - cmdstanpy - INFO - Chain [1] done processing\n",
      "21:43:42 - cmdstanpy - INFO - Chain [1] start processing\n",
      "21:43:42 - cmdstanpy - INFO - Chain [1] done processing\n"
     ]
    },
    {
     "data": {
      "application/vnd.jupyter.widget-view+json": {
       "model_id": "48758a48b5164fbbb5dfb82a9e277b50",
       "version_major": 2,
       "version_minor": 0
      },
      "text/plain": [
       "  0%|          | 0/1 [00:00<?, ?it/s]"
      ]
     },
     "metadata": {},
     "output_type": "display_data"
    },
    {
     "name": "stderr",
     "output_type": "stream",
     "text": [
      "21:43:43 - cmdstanpy - INFO - Chain [1] start processing\n",
      "21:43:43 - cmdstanpy - INFO - Chain [1] done processing\n",
      "21:43:43 - cmdstanpy - INFO - Chain [1] start processing\n",
      "21:43:44 - cmdstanpy - INFO - Chain [1] done processing\n"
     ]
    },
    {
     "data": {
      "application/vnd.jupyter.widget-view+json": {
       "model_id": "b55668d9a2ba43d789773642f53a85f7",
       "version_major": 2,
       "version_minor": 0
      },
      "text/plain": [
       "  0%|          | 0/1 [00:00<?, ?it/s]"
      ]
     },
     "metadata": {},
     "output_type": "display_data"
    },
    {
     "name": "stderr",
     "output_type": "stream",
     "text": [
      "21:43:44 - cmdstanpy - INFO - Chain [1] start processing\n",
      "21:43:44 - cmdstanpy - INFO - Chain [1] done processing\n",
      "21:43:44 - cmdstanpy - INFO - Chain [1] start processing\n",
      "21:43:45 - cmdstanpy - INFO - Chain [1] done processing\n"
     ]
    },
    {
     "data": {
      "application/vnd.jupyter.widget-view+json": {
       "model_id": "941f61d3aaa34fa6b7ae3830773b69c2",
       "version_major": 2,
       "version_minor": 0
      },
      "text/plain": [
       "  0%|          | 0/1 [00:00<?, ?it/s]"
      ]
     },
     "metadata": {},
     "output_type": "display_data"
    },
    {
     "name": "stderr",
     "output_type": "stream",
     "text": [
      "21:43:45 - cmdstanpy - INFO - Chain [1] start processing\n",
      "21:43:45 - cmdstanpy - INFO - Chain [1] done processing\n",
      "21:43:46 - cmdstanpy - INFO - Chain [1] start processing\n",
      "21:43:46 - cmdstanpy - INFO - Chain [1] done processing\n"
     ]
    },
    {
     "data": {
      "application/vnd.jupyter.widget-view+json": {
       "model_id": "03a32a4d345c4de88ee609a82b4e6da8",
       "version_major": 2,
       "version_minor": 0
      },
      "text/plain": [
       "  0%|          | 0/1 [00:00<?, ?it/s]"
      ]
     },
     "metadata": {},
     "output_type": "display_data"
    },
    {
     "name": "stderr",
     "output_type": "stream",
     "text": [
      "21:43:46 - cmdstanpy - INFO - Chain [1] start processing\n",
      "21:43:46 - cmdstanpy - INFO - Chain [1] done processing\n",
      "21:43:47 - cmdstanpy - INFO - Chain [1] start processing\n",
      "21:43:47 - cmdstanpy - INFO - Chain [1] done processing\n"
     ]
    },
    {
     "data": {
      "application/vnd.jupyter.widget-view+json": {
       "model_id": "d15533b01c844c0db1576c3338e97926",
       "version_major": 2,
       "version_minor": 0
      },
      "text/plain": [
       "  0%|          | 0/1 [00:00<?, ?it/s]"
      ]
     },
     "metadata": {},
     "output_type": "display_data"
    },
    {
     "name": "stderr",
     "output_type": "stream",
     "text": [
      "21:43:47 - cmdstanpy - INFO - Chain [1] start processing\n",
      "21:43:47 - cmdstanpy - INFO - Chain [1] done processing\n",
      "21:43:48 - cmdstanpy - INFO - Chain [1] start processing\n",
      "21:43:48 - cmdstanpy - INFO - Chain [1] done processing\n"
     ]
    },
    {
     "data": {
      "application/vnd.jupyter.widget-view+json": {
       "model_id": "9cc82c16bb1b40e6a7705d3588ec1bd3",
       "version_major": 2,
       "version_minor": 0
      },
      "text/plain": [
       "  0%|          | 0/1 [00:00<?, ?it/s]"
      ]
     },
     "metadata": {},
     "output_type": "display_data"
    },
    {
     "name": "stderr",
     "output_type": "stream",
     "text": [
      "21:43:48 - cmdstanpy - INFO - Chain [1] start processing\n",
      "21:43:49 - cmdstanpy - INFO - Chain [1] done processing\n",
      "21:43:49 - cmdstanpy - INFO - Chain [1] start processing\n",
      "21:43:49 - cmdstanpy - INFO - Chain [1] done processing\n"
     ]
    },
    {
     "data": {
      "application/vnd.jupyter.widget-view+json": {
       "model_id": "ede76d20d81e44709ad6716531d39a43",
       "version_major": 2,
       "version_minor": 0
      },
      "text/plain": [
       "  0%|          | 0/1 [00:00<?, ?it/s]"
      ]
     },
     "metadata": {},
     "output_type": "display_data"
    },
    {
     "name": "stderr",
     "output_type": "stream",
     "text": [
      "21:43:50 - cmdstanpy - INFO - Chain [1] start processing\n",
      "21:43:50 - cmdstanpy - INFO - Chain [1] done processing\n",
      "21:43:50 - cmdstanpy - INFO - Chain [1] start processing\n",
      "21:43:52 - cmdstanpy - INFO - Chain [1] done processing\n"
     ]
    },
    {
     "data": {
      "application/vnd.jupyter.widget-view+json": {
       "model_id": "b8b21516756f4798aeeee86cad82441b",
       "version_major": 2,
       "version_minor": 0
      },
      "text/plain": [
       "  0%|          | 0/1 [00:00<?, ?it/s]"
      ]
     },
     "metadata": {},
     "output_type": "display_data"
    },
    {
     "name": "stderr",
     "output_type": "stream",
     "text": [
      "21:43:52 - cmdstanpy - INFO - Chain [1] start processing\n",
      "21:43:53 - cmdstanpy - INFO - Chain [1] done processing\n",
      "21:43:53 - cmdstanpy - INFO - Chain [1] start processing\n",
      "21:43:54 - cmdstanpy - INFO - Chain [1] done processing\n"
     ]
    },
    {
     "data": {
      "application/vnd.jupyter.widget-view+json": {
       "model_id": "806c241c7b574ad386da0d3ad639bdeb",
       "version_major": 2,
       "version_minor": 0
      },
      "text/plain": [
       "  0%|          | 0/1 [00:00<?, ?it/s]"
      ]
     },
     "metadata": {},
     "output_type": "display_data"
    },
    {
     "name": "stderr",
     "output_type": "stream",
     "text": [
      "21:43:54 - cmdstanpy - INFO - Chain [1] start processing\n",
      "21:43:54 - cmdstanpy - INFO - Chain [1] done processing\n",
      "21:43:55 - cmdstanpy - INFO - Chain [1] start processing\n",
      "21:43:55 - cmdstanpy - INFO - Chain [1] done processing\n"
     ]
    },
    {
     "data": {
      "application/vnd.jupyter.widget-view+json": {
       "model_id": "6d2523038a3749b588e25eea3a791fe8",
       "version_major": 2,
       "version_minor": 0
      },
      "text/plain": [
       "  0%|          | 0/1 [00:00<?, ?it/s]"
      ]
     },
     "metadata": {},
     "output_type": "display_data"
    },
    {
     "name": "stderr",
     "output_type": "stream",
     "text": [
      "21:43:55 - cmdstanpy - INFO - Chain [1] start processing\n",
      "21:43:55 - cmdstanpy - INFO - Chain [1] done processing\n",
      "21:43:56 - cmdstanpy - INFO - Chain [1] start processing\n",
      "21:43:56 - cmdstanpy - INFO - Chain [1] done processing\n"
     ]
    },
    {
     "data": {
      "application/vnd.jupyter.widget-view+json": {
       "model_id": "10f96b3013e4484d9e6329904d2aa41f",
       "version_major": 2,
       "version_minor": 0
      },
      "text/plain": [
       "  0%|          | 0/1 [00:00<?, ?it/s]"
      ]
     },
     "metadata": {},
     "output_type": "display_data"
    },
    {
     "name": "stderr",
     "output_type": "stream",
     "text": [
      "21:43:56 - cmdstanpy - INFO - Chain [1] start processing\n",
      "21:43:56 - cmdstanpy - INFO - Chain [1] done processing\n",
      "21:43:57 - cmdstanpy - INFO - Chain [1] start processing\n",
      "21:43:57 - cmdstanpy - INFO - Chain [1] done processing\n"
     ]
    },
    {
     "data": {
      "application/vnd.jupyter.widget-view+json": {
       "model_id": "542dcc9402e9450298a88a8e483075f3",
       "version_major": 2,
       "version_minor": 0
      },
      "text/plain": [
       "  0%|          | 0/1 [00:00<?, ?it/s]"
      ]
     },
     "metadata": {},
     "output_type": "display_data"
    },
    {
     "name": "stderr",
     "output_type": "stream",
     "text": [
      "21:43:57 - cmdstanpy - INFO - Chain [1] start processing\n",
      "21:43:58 - cmdstanpy - INFO - Chain [1] done processing\n",
      "21:43:58 - cmdstanpy - INFO - Chain [1] start processing\n",
      "21:43:58 - cmdstanpy - INFO - Chain [1] done processing\n"
     ]
    },
    {
     "data": {
      "application/vnd.jupyter.widget-view+json": {
       "model_id": "73ab9a50b7cc4e298d06922caf24e021",
       "version_major": 2,
       "version_minor": 0
      },
      "text/plain": [
       "  0%|          | 0/1 [00:00<?, ?it/s]"
      ]
     },
     "metadata": {},
     "output_type": "display_data"
    },
    {
     "name": "stderr",
     "output_type": "stream",
     "text": [
      "21:43:58 - cmdstanpy - INFO - Chain [1] start processing\n",
      "21:43:59 - cmdstanpy - INFO - Chain [1] done processing\n",
      "21:43:59 - cmdstanpy - INFO - Chain [1] start processing\n",
      "21:43:59 - cmdstanpy - INFO - Chain [1] done processing\n"
     ]
    },
    {
     "data": {
      "application/vnd.jupyter.widget-view+json": {
       "model_id": "061dcdc5b0a24b56b7b455d634516869",
       "version_major": 2,
       "version_minor": 0
      },
      "text/plain": [
       "  0%|          | 0/1 [00:00<?, ?it/s]"
      ]
     },
     "metadata": {},
     "output_type": "display_data"
    },
    {
     "name": "stderr",
     "output_type": "stream",
     "text": [
      "21:43:59 - cmdstanpy - INFO - Chain [1] start processing\n",
      "21:43:59 - cmdstanpy - INFO - Chain [1] done processing\n",
      "21:44:00 - cmdstanpy - INFO - Chain [1] start processing\n",
      "21:44:01 - cmdstanpy - INFO - Chain [1] done processing\n"
     ]
    },
    {
     "data": {
      "application/vnd.jupyter.widget-view+json": {
       "model_id": "78aaa3f57d5a43f0bc1a83ee8e7c6fad",
       "version_major": 2,
       "version_minor": 0
      },
      "text/plain": [
       "  0%|          | 0/1 [00:00<?, ?it/s]"
      ]
     },
     "metadata": {},
     "output_type": "display_data"
    },
    {
     "name": "stderr",
     "output_type": "stream",
     "text": [
      "21:44:01 - cmdstanpy - INFO - Chain [1] start processing\n",
      "21:44:02 - cmdstanpy - INFO - Chain [1] done processing\n",
      "21:44:03 - cmdstanpy - INFO - Chain [1] start processing\n",
      "21:44:03 - cmdstanpy - INFO - Chain [1] done processing\n"
     ]
    },
    {
     "data": {
      "application/vnd.jupyter.widget-view+json": {
       "model_id": "16b459475281419b8e663b449af586b8",
       "version_major": 2,
       "version_minor": 0
      },
      "text/plain": [
       "  0%|          | 0/1 [00:00<?, ?it/s]"
      ]
     },
     "metadata": {},
     "output_type": "display_data"
    },
    {
     "name": "stderr",
     "output_type": "stream",
     "text": [
      "21:44:03 - cmdstanpy - INFO - Chain [1] start processing\n",
      "21:44:03 - cmdstanpy - INFO - Chain [1] done processing\n",
      "21:44:04 - cmdstanpy - INFO - Chain [1] start processing\n",
      "21:44:04 - cmdstanpy - INFO - Chain [1] done processing\n"
     ]
    },
    {
     "data": {
      "application/vnd.jupyter.widget-view+json": {
       "model_id": "beb79e0d301540df88fec252bf3ade5a",
       "version_major": 2,
       "version_minor": 0
      },
      "text/plain": [
       "  0%|          | 0/1 [00:00<?, ?it/s]"
      ]
     },
     "metadata": {},
     "output_type": "display_data"
    },
    {
     "name": "stderr",
     "output_type": "stream",
     "text": [
      "21:44:04 - cmdstanpy - INFO - Chain [1] start processing\n",
      "21:44:04 - cmdstanpy - INFO - Chain [1] done processing\n",
      "21:44:05 - cmdstanpy - INFO - Chain [1] start processing\n",
      "21:44:05 - cmdstanpy - INFO - Chain [1] done processing\n"
     ]
    },
    {
     "data": {
      "application/vnd.jupyter.widget-view+json": {
       "model_id": "d27fcb28e1564c429f741b4abb3dc924",
       "version_major": 2,
       "version_minor": 0
      },
      "text/plain": [
       "  0%|          | 0/1 [00:00<?, ?it/s]"
      ]
     },
     "metadata": {},
     "output_type": "display_data"
    },
    {
     "name": "stderr",
     "output_type": "stream",
     "text": [
      "21:44:05 - cmdstanpy - INFO - Chain [1] start processing\n",
      "21:44:05 - cmdstanpy - INFO - Chain [1] done processing\n",
      "21:44:06 - cmdstanpy - INFO - Chain [1] start processing\n",
      "21:44:07 - cmdstanpy - INFO - Chain [1] done processing\n"
     ]
    },
    {
     "data": {
      "application/vnd.jupyter.widget-view+json": {
       "model_id": "36ea9c1435ea402a92a2115526122469",
       "version_major": 2,
       "version_minor": 0
      },
      "text/plain": [
       "  0%|          | 0/1 [00:00<?, ?it/s]"
      ]
     },
     "metadata": {},
     "output_type": "display_data"
    },
    {
     "name": "stderr",
     "output_type": "stream",
     "text": [
      "21:44:07 - cmdstanpy - INFO - Chain [1] start processing\n",
      "21:44:08 - cmdstanpy - INFO - Chain [1] done processing\n",
      "21:44:09 - cmdstanpy - INFO - Chain [1] start processing\n",
      "21:44:09 - cmdstanpy - INFO - Chain [1] done processing\n"
     ]
    },
    {
     "name": "stdout",
     "output_type": "stream",
     "text": [
      "--------Total: 0~10 eIMFs, Now: eIMFs_1 --------\n"
     ]
    },
    {
     "name": "stderr",
     "output_type": "stream",
     "text": [
      "21:44:10 - cmdstanpy - INFO - Chain [1] start processing\n",
      "21:44:11 - cmdstanpy - INFO - Chain [1] done processing\n"
     ]
    },
    {
     "data": {
      "application/vnd.jupyter.widget-view+json": {
       "model_id": "38e9dc295f69402fbbd7bf0660e5788c",
       "version_major": 2,
       "version_minor": 0
      },
      "text/plain": [
       "  0%|          | 0/1 [00:00<?, ?it/s]"
      ]
     },
     "metadata": {},
     "output_type": "display_data"
    },
    {
     "name": "stderr",
     "output_type": "stream",
     "text": [
      "21:44:11 - cmdstanpy - INFO - Chain [1] start processing\n",
      "21:44:12 - cmdstanpy - INFO - Chain [1] done processing\n",
      "21:44:12 - cmdstanpy - INFO - Chain [1] start processing\n",
      "21:44:13 - cmdstanpy - INFO - Chain [1] done processing\n"
     ]
    },
    {
     "data": {
      "application/vnd.jupyter.widget-view+json": {
       "model_id": "a18dc6ce18b248f8b3853be2cf93fc7d",
       "version_major": 2,
       "version_minor": 0
      },
      "text/plain": [
       "  0%|          | 0/1 [00:00<?, ?it/s]"
      ]
     },
     "metadata": {},
     "output_type": "display_data"
    },
    {
     "name": "stderr",
     "output_type": "stream",
     "text": [
      "21:44:13 - cmdstanpy - INFO - Chain [1] start processing\n",
      "21:44:14 - cmdstanpy - INFO - Chain [1] done processing\n",
      "21:44:15 - cmdstanpy - INFO - Chain [1] start processing\n",
      "21:44:15 - cmdstanpy - INFO - Chain [1] done processing\n"
     ]
    },
    {
     "data": {
      "application/vnd.jupyter.widget-view+json": {
       "model_id": "526c62a3ce7a43e1bce486ac8cfb12c0",
       "version_major": 2,
       "version_minor": 0
      },
      "text/plain": [
       "  0%|          | 0/1 [00:00<?, ?it/s]"
      ]
     },
     "metadata": {},
     "output_type": "display_data"
    },
    {
     "name": "stderr",
     "output_type": "stream",
     "text": [
      "21:44:15 - cmdstanpy - INFO - Chain [1] start processing\n",
      "21:44:15 - cmdstanpy - INFO - Chain [1] done processing\n",
      "21:44:16 - cmdstanpy - INFO - Chain [1] start processing\n",
      "21:44:16 - cmdstanpy - INFO - Chain [1] done processing\n"
     ]
    },
    {
     "data": {
      "application/vnd.jupyter.widget-view+json": {
       "model_id": "8912b9c2c44a44e39971518797732f0f",
       "version_major": 2,
       "version_minor": 0
      },
      "text/plain": [
       "  0%|          | 0/1 [00:00<?, ?it/s]"
      ]
     },
     "metadata": {},
     "output_type": "display_data"
    },
    {
     "name": "stderr",
     "output_type": "stream",
     "text": [
      "21:44:16 - cmdstanpy - INFO - Chain [1] start processing\n",
      "21:44:16 - cmdstanpy - INFO - Chain [1] done processing\n",
      "21:44:17 - cmdstanpy - INFO - Chain [1] start processing\n",
      "21:44:17 - cmdstanpy - INFO - Chain [1] done processing\n"
     ]
    },
    {
     "data": {
      "application/vnd.jupyter.widget-view+json": {
       "model_id": "ae720620c8914150814facd1581bef37",
       "version_major": 2,
       "version_minor": 0
      },
      "text/plain": [
       "  0%|          | 0/1 [00:00<?, ?it/s]"
      ]
     },
     "metadata": {},
     "output_type": "display_data"
    },
    {
     "name": "stderr",
     "output_type": "stream",
     "text": [
      "21:44:17 - cmdstanpy - INFO - Chain [1] start processing\n",
      "21:44:17 - cmdstanpy - INFO - Chain [1] done processing\n",
      "21:44:18 - cmdstanpy - INFO - Chain [1] start processing\n",
      "21:44:19 - cmdstanpy - INFO - Chain [1] done processing\n"
     ]
    },
    {
     "data": {
      "application/vnd.jupyter.widget-view+json": {
       "model_id": "d50fc75a092f48a896308a9bc505ecca",
       "version_major": 2,
       "version_minor": 0
      },
      "text/plain": [
       "  0%|          | 0/1 [00:00<?, ?it/s]"
      ]
     },
     "metadata": {},
     "output_type": "display_data"
    },
    {
     "name": "stderr",
     "output_type": "stream",
     "text": [
      "21:44:19 - cmdstanpy - INFO - Chain [1] start processing\n",
      "21:44:20 - cmdstanpy - INFO - Chain [1] done processing\n",
      "21:44:20 - cmdstanpy - INFO - Chain [1] start processing\n",
      "21:44:20 - cmdstanpy - INFO - Chain [1] done processing\n"
     ]
    },
    {
     "data": {
      "application/vnd.jupyter.widget-view+json": {
       "model_id": "f00334df83ec45ea9b5482dfe4a05cc3",
       "version_major": 2,
       "version_minor": 0
      },
      "text/plain": [
       "  0%|          | 0/1 [00:00<?, ?it/s]"
      ]
     },
     "metadata": {},
     "output_type": "display_data"
    },
    {
     "name": "stderr",
     "output_type": "stream",
     "text": [
      "21:44:20 - cmdstanpy - INFO - Chain [1] start processing\n",
      "21:44:21 - cmdstanpy - INFO - Chain [1] done processing\n",
      "21:44:21 - cmdstanpy - INFO - Chain [1] start processing\n",
      "21:44:21 - cmdstanpy - INFO - Chain [1] done processing\n"
     ]
    },
    {
     "data": {
      "application/vnd.jupyter.widget-view+json": {
       "model_id": "400d2ee12ad1464a974e38683c9d722f",
       "version_major": 2,
       "version_minor": 0
      },
      "text/plain": [
       "  0%|          | 0/1 [00:00<?, ?it/s]"
      ]
     },
     "metadata": {},
     "output_type": "display_data"
    },
    {
     "name": "stderr",
     "output_type": "stream",
     "text": [
      "21:44:21 - cmdstanpy - INFO - Chain [1] start processing\n",
      "21:44:22 - cmdstanpy - INFO - Chain [1] done processing\n",
      "21:44:22 - cmdstanpy - INFO - Chain [1] start processing\n",
      "21:44:22 - cmdstanpy - INFO - Chain [1] done processing\n"
     ]
    },
    {
     "data": {
      "application/vnd.jupyter.widget-view+json": {
       "model_id": "1f5e262daf314257aba1e7f71f2d4d7e",
       "version_major": 2,
       "version_minor": 0
      },
      "text/plain": [
       "  0%|          | 0/1 [00:00<?, ?it/s]"
      ]
     },
     "metadata": {},
     "output_type": "display_data"
    },
    {
     "name": "stderr",
     "output_type": "stream",
     "text": [
      "21:44:23 - cmdstanpy - INFO - Chain [1] start processing\n",
      "21:44:23 - cmdstanpy - INFO - Chain [1] done processing\n",
      "21:44:23 - cmdstanpy - INFO - Chain [1] start processing\n",
      "21:44:24 - cmdstanpy - INFO - Chain [1] done processing\n"
     ]
    },
    {
     "data": {
      "application/vnd.jupyter.widget-view+json": {
       "model_id": "5574529688c94f558b401b8d775ddda0",
       "version_major": 2,
       "version_minor": 0
      },
      "text/plain": [
       "  0%|          | 0/1 [00:00<?, ?it/s]"
      ]
     },
     "metadata": {},
     "output_type": "display_data"
    },
    {
     "name": "stderr",
     "output_type": "stream",
     "text": [
      "21:44:24 - cmdstanpy - INFO - Chain [1] start processing\n",
      "21:44:24 - cmdstanpy - INFO - Chain [1] done processing\n",
      "21:44:25 - cmdstanpy - INFO - Chain [1] start processing\n",
      "21:44:25 - cmdstanpy - INFO - Chain [1] done processing\n"
     ]
    },
    {
     "data": {
      "application/vnd.jupyter.widget-view+json": {
       "model_id": "93842d3501024246930367861a9340f2",
       "version_major": 2,
       "version_minor": 0
      },
      "text/plain": [
       "  0%|          | 0/1 [00:00<?, ?it/s]"
      ]
     },
     "metadata": {},
     "output_type": "display_data"
    },
    {
     "name": "stderr",
     "output_type": "stream",
     "text": [
      "21:44:25 - cmdstanpy - INFO - Chain [1] start processing\n",
      "21:44:25 - cmdstanpy - INFO - Chain [1] done processing\n",
      "21:44:26 - cmdstanpy - INFO - Chain [1] start processing\n",
      "21:44:26 - cmdstanpy - INFO - Chain [1] done processing\n"
     ]
    },
    {
     "data": {
      "application/vnd.jupyter.widget-view+json": {
       "model_id": "b1320b364377411d85dff684ec18b983",
       "version_major": 2,
       "version_minor": 0
      },
      "text/plain": [
       "  0%|          | 0/1 [00:00<?, ?it/s]"
      ]
     },
     "metadata": {},
     "output_type": "display_data"
    },
    {
     "name": "stderr",
     "output_type": "stream",
     "text": [
      "21:44:26 - cmdstanpy - INFO - Chain [1] start processing\n",
      "21:44:26 - cmdstanpy - INFO - Chain [1] done processing\n",
      "21:44:26 - cmdstanpy - INFO - Chain [1] start processing\n",
      "21:44:27 - cmdstanpy - INFO - Chain [1] done processing\n"
     ]
    },
    {
     "data": {
      "application/vnd.jupyter.widget-view+json": {
       "model_id": "0ddf4fd3fe144c21924483c4b29db950",
       "version_major": 2,
       "version_minor": 0
      },
      "text/plain": [
       "  0%|          | 0/1 [00:00<?, ?it/s]"
      ]
     },
     "metadata": {},
     "output_type": "display_data"
    },
    {
     "name": "stderr",
     "output_type": "stream",
     "text": [
      "21:44:27 - cmdstanpy - INFO - Chain [1] start processing\n",
      "21:44:27 - cmdstanpy - INFO - Chain [1] done processing\n",
      "21:44:28 - cmdstanpy - INFO - Chain [1] start processing\n",
      "21:44:29 - cmdstanpy - INFO - Chain [1] done processing\n"
     ]
    },
    {
     "data": {
      "application/vnd.jupyter.widget-view+json": {
       "model_id": "6a05f259cec3491b984be47f25feffdc",
       "version_major": 2,
       "version_minor": 0
      },
      "text/plain": [
       "  0%|          | 0/1 [00:00<?, ?it/s]"
      ]
     },
     "metadata": {},
     "output_type": "display_data"
    },
    {
     "name": "stderr",
     "output_type": "stream",
     "text": [
      "21:44:29 - cmdstanpy - INFO - Chain [1] start processing\n",
      "21:44:30 - cmdstanpy - INFO - Chain [1] done processing\n",
      "21:44:31 - cmdstanpy - INFO - Chain [1] start processing\n",
      "21:44:31 - cmdstanpy - INFO - Chain [1] done processing\n"
     ]
    },
    {
     "data": {
      "application/vnd.jupyter.widget-view+json": {
       "model_id": "045e323a187345a097369b288d686b44",
       "version_major": 2,
       "version_minor": 0
      },
      "text/plain": [
       "  0%|          | 0/1 [00:00<?, ?it/s]"
      ]
     },
     "metadata": {},
     "output_type": "display_data"
    },
    {
     "name": "stderr",
     "output_type": "stream",
     "text": [
      "21:44:31 - cmdstanpy - INFO - Chain [1] start processing\n",
      "21:44:31 - cmdstanpy - INFO - Chain [1] done processing\n",
      "21:44:32 - cmdstanpy - INFO - Chain [1] start processing\n",
      "21:44:32 - cmdstanpy - INFO - Chain [1] done processing\n"
     ]
    },
    {
     "data": {
      "application/vnd.jupyter.widget-view+json": {
       "model_id": "57374344752f4f75994747e50f1236b8",
       "version_major": 2,
       "version_minor": 0
      },
      "text/plain": [
       "  0%|          | 0/1 [00:00<?, ?it/s]"
      ]
     },
     "metadata": {},
     "output_type": "display_data"
    },
    {
     "name": "stderr",
     "output_type": "stream",
     "text": [
      "21:44:32 - cmdstanpy - INFO - Chain [1] start processing\n",
      "21:44:32 - cmdstanpy - INFO - Chain [1] done processing\n",
      "21:44:33 - cmdstanpy - INFO - Chain [1] start processing\n",
      "21:44:33 - cmdstanpy - INFO - Chain [1] done processing\n"
     ]
    },
    {
     "data": {
      "application/vnd.jupyter.widget-view+json": {
       "model_id": "5cba43289c8443bdbb3a9d23e6e7913e",
       "version_major": 2,
       "version_minor": 0
      },
      "text/plain": [
       "  0%|          | 0/1 [00:00<?, ?it/s]"
      ]
     },
     "metadata": {},
     "output_type": "display_data"
    },
    {
     "name": "stderr",
     "output_type": "stream",
     "text": [
      "21:44:33 - cmdstanpy - INFO - Chain [1] start processing\n",
      "21:44:33 - cmdstanpy - INFO - Chain [1] done processing\n",
      "21:44:34 - cmdstanpy - INFO - Chain [1] start processing\n",
      "21:44:34 - cmdstanpy - INFO - Chain [1] done processing\n"
     ]
    },
    {
     "data": {
      "application/vnd.jupyter.widget-view+json": {
       "model_id": "4b06a02caaea489b816efc4e23a21da1",
       "version_major": 2,
       "version_minor": 0
      },
      "text/plain": [
       "  0%|          | 0/1 [00:00<?, ?it/s]"
      ]
     },
     "metadata": {},
     "output_type": "display_data"
    },
    {
     "name": "stderr",
     "output_type": "stream",
     "text": [
      "21:44:34 - cmdstanpy - INFO - Chain [1] start processing\n",
      "21:44:34 - cmdstanpy - INFO - Chain [1] done processing\n",
      "21:44:35 - cmdstanpy - INFO - Chain [1] start processing\n",
      "21:44:35 - cmdstanpy - INFO - Chain [1] done processing\n"
     ]
    },
    {
     "data": {
      "application/vnd.jupyter.widget-view+json": {
       "model_id": "9c8d06e4b9f744acbd4088c925c2148e",
       "version_major": 2,
       "version_minor": 0
      },
      "text/plain": [
       "  0%|          | 0/1 [00:00<?, ?it/s]"
      ]
     },
     "metadata": {},
     "output_type": "display_data"
    },
    {
     "name": "stderr",
     "output_type": "stream",
     "text": [
      "21:44:35 - cmdstanpy - INFO - Chain [1] start processing\n",
      "21:44:35 - cmdstanpy - INFO - Chain [1] done processing\n",
      "21:44:36 - cmdstanpy - INFO - Chain [1] start processing\n",
      "21:44:36 - cmdstanpy - INFO - Chain [1] done processing\n"
     ]
    },
    {
     "data": {
      "application/vnd.jupyter.widget-view+json": {
       "model_id": "03fb7914c05940569347a25b9e7952ec",
       "version_major": 2,
       "version_minor": 0
      },
      "text/plain": [
       "  0%|          | 0/1 [00:00<?, ?it/s]"
      ]
     },
     "metadata": {},
     "output_type": "display_data"
    },
    {
     "name": "stderr",
     "output_type": "stream",
     "text": [
      "21:44:36 - cmdstanpy - INFO - Chain [1] start processing\n",
      "21:44:36 - cmdstanpy - INFO - Chain [1] done processing\n",
      "21:44:37 - cmdstanpy - INFO - Chain [1] start processing\n",
      "21:44:38 - cmdstanpy - INFO - Chain [1] done processing\n"
     ]
    },
    {
     "data": {
      "application/vnd.jupyter.widget-view+json": {
       "model_id": "654b77d74b7d4df388752781ac7d2119",
       "version_major": 2,
       "version_minor": 0
      },
      "text/plain": [
       "  0%|          | 0/1 [00:00<?, ?it/s]"
      ]
     },
     "metadata": {},
     "output_type": "display_data"
    },
    {
     "name": "stderr",
     "output_type": "stream",
     "text": [
      "21:44:39 - cmdstanpy - INFO - Chain [1] start processing\n",
      "21:44:40 - cmdstanpy - INFO - Chain [1] done processing\n",
      "21:44:40 - cmdstanpy - INFO - Chain [1] start processing\n",
      "21:44:42 - cmdstanpy - INFO - Chain [1] done processing\n"
     ]
    },
    {
     "data": {
      "application/vnd.jupyter.widget-view+json": {
       "model_id": "e503041cadb84660ac749789681eaabc",
       "version_major": 2,
       "version_minor": 0
      },
      "text/plain": [
       "  0%|          | 0/1 [00:00<?, ?it/s]"
      ]
     },
     "metadata": {},
     "output_type": "display_data"
    },
    {
     "name": "stderr",
     "output_type": "stream",
     "text": [
      "21:44:42 - cmdstanpy - INFO - Chain [1] start processing\n",
      "21:44:44 - cmdstanpy - INFO - Chain [1] done processing\n",
      "21:44:44 - cmdstanpy - INFO - Chain [1] start processing\n",
      "21:44:45 - cmdstanpy - INFO - Chain [1] done processing\n"
     ]
    },
    {
     "data": {
      "application/vnd.jupyter.widget-view+json": {
       "model_id": "03bf113fff4646a89fbb8366a5030edb",
       "version_major": 2,
       "version_minor": 0
      },
      "text/plain": [
       "  0%|          | 0/1 [00:00<?, ?it/s]"
      ]
     },
     "metadata": {},
     "output_type": "display_data"
    },
    {
     "name": "stderr",
     "output_type": "stream",
     "text": [
      "21:44:46 - cmdstanpy - INFO - Chain [1] start processing\n",
      "21:44:46 - cmdstanpy - INFO - Chain [1] done processing\n",
      "21:44:47 - cmdstanpy - INFO - Chain [1] start processing\n",
      "21:44:47 - cmdstanpy - INFO - Chain [1] done processing\n"
     ]
    },
    {
     "data": {
      "application/vnd.jupyter.widget-view+json": {
       "model_id": "56ad08e978bc44cc9fa915187d3723ff",
       "version_major": 2,
       "version_minor": 0
      },
      "text/plain": [
       "  0%|          | 0/1 [00:00<?, ?it/s]"
      ]
     },
     "metadata": {},
     "output_type": "display_data"
    },
    {
     "name": "stderr",
     "output_type": "stream",
     "text": [
      "21:44:47 - cmdstanpy - INFO - Chain [1] start processing\n",
      "21:44:47 - cmdstanpy - INFO - Chain [1] done processing\n",
      "21:44:48 - cmdstanpy - INFO - Chain [1] start processing\n",
      "21:44:49 - cmdstanpy - INFO - Chain [1] done processing\n"
     ]
    },
    {
     "data": {
      "application/vnd.jupyter.widget-view+json": {
       "model_id": "de18bfba7da54c6688786c67367fa55d",
       "version_major": 2,
       "version_minor": 0
      },
      "text/plain": [
       "  0%|          | 0/1 [00:00<?, ?it/s]"
      ]
     },
     "metadata": {},
     "output_type": "display_data"
    },
    {
     "name": "stderr",
     "output_type": "stream",
     "text": [
      "21:44:49 - cmdstanpy - INFO - Chain [1] start processing\n",
      "21:44:50 - cmdstanpy - INFO - Chain [1] done processing\n",
      "21:44:50 - cmdstanpy - INFO - Chain [1] start processing\n",
      "21:44:50 - cmdstanpy - INFO - Chain [1] done processing\n"
     ]
    },
    {
     "data": {
      "application/vnd.jupyter.widget-view+json": {
       "model_id": "df64d881ecd24761a87e2a80e83cfadc",
       "version_major": 2,
       "version_minor": 0
      },
      "text/plain": [
       "  0%|          | 0/1 [00:00<?, ?it/s]"
      ]
     },
     "metadata": {},
     "output_type": "display_data"
    },
    {
     "name": "stderr",
     "output_type": "stream",
     "text": [
      "21:44:51 - cmdstanpy - INFO - Chain [1] start processing\n",
      "21:44:51 - cmdstanpy - INFO - Chain [1] done processing\n",
      "21:44:51 - cmdstanpy - INFO - Chain [1] start processing\n",
      "21:44:51 - cmdstanpy - INFO - Chain [1] done processing\n"
     ]
    },
    {
     "data": {
      "application/vnd.jupyter.widget-view+json": {
       "model_id": "e305ace891b74c8fad904b3b449e4701",
       "version_major": 2,
       "version_minor": 0
      },
      "text/plain": [
       "  0%|          | 0/1 [00:00<?, ?it/s]"
      ]
     },
     "metadata": {},
     "output_type": "display_data"
    },
    {
     "name": "stderr",
     "output_type": "stream",
     "text": [
      "21:44:52 - cmdstanpy - INFO - Chain [1] start processing\n",
      "21:44:52 - cmdstanpy - INFO - Chain [1] done processing\n",
      "21:44:52 - cmdstanpy - INFO - Chain [1] start processing\n",
      "21:44:52 - cmdstanpy - INFO - Chain [1] done processing\n"
     ]
    },
    {
     "data": {
      "application/vnd.jupyter.widget-view+json": {
       "model_id": "819d5f216a61414c8b5e9a1fdf107ed3",
       "version_major": 2,
       "version_minor": 0
      },
      "text/plain": [
       "  0%|          | 0/1 [00:00<?, ?it/s]"
      ]
     },
     "metadata": {},
     "output_type": "display_data"
    },
    {
     "name": "stderr",
     "output_type": "stream",
     "text": [
      "21:44:53 - cmdstanpy - INFO - Chain [1] start processing\n",
      "21:44:53 - cmdstanpy - INFO - Chain [1] done processing\n",
      "21:44:53 - cmdstanpy - INFO - Chain [1] start processing\n",
      "21:44:53 - cmdstanpy - INFO - Chain [1] done processing\n"
     ]
    },
    {
     "data": {
      "application/vnd.jupyter.widget-view+json": {
       "model_id": "3f7c5762a08f43b9a52ced901eb1c403",
       "version_major": 2,
       "version_minor": 0
      },
      "text/plain": [
       "  0%|          | 0/1 [00:00<?, ?it/s]"
      ]
     },
     "metadata": {},
     "output_type": "display_data"
    },
    {
     "name": "stderr",
     "output_type": "stream",
     "text": [
      "21:44:54 - cmdstanpy - INFO - Chain [1] start processing\n",
      "21:44:54 - cmdstanpy - INFO - Chain [1] done processing\n",
      "21:44:54 - cmdstanpy - INFO - Chain [1] start processing\n",
      "21:44:54 - cmdstanpy - INFO - Chain [1] done processing\n"
     ]
    },
    {
     "data": {
      "application/vnd.jupyter.widget-view+json": {
       "model_id": "a0ae55281fc94a7abfd3b9087a544072",
       "version_major": 2,
       "version_minor": 0
      },
      "text/plain": [
       "  0%|          | 0/1 [00:00<?, ?it/s]"
      ]
     },
     "metadata": {},
     "output_type": "display_data"
    },
    {
     "name": "stderr",
     "output_type": "stream",
     "text": [
      "21:44:55 - cmdstanpy - INFO - Chain [1] start processing\n",
      "21:44:55 - cmdstanpy - INFO - Chain [1] done processing\n",
      "21:44:55 - cmdstanpy - INFO - Chain [1] start processing\n",
      "21:44:56 - cmdstanpy - INFO - Chain [1] done processing\n"
     ]
    },
    {
     "name": "stdout",
     "output_type": "stream",
     "text": [
      "--------Total: 0~10 eIMFs, Now: eIMFs_2 --------\n"
     ]
    },
    {
     "name": "stderr",
     "output_type": "stream",
     "text": [
      "21:44:56 - cmdstanpy - INFO - Chain [1] start processing\n",
      "21:44:56 - cmdstanpy - INFO - Chain [1] done processing\n"
     ]
    },
    {
     "data": {
      "application/vnd.jupyter.widget-view+json": {
       "model_id": "cf58244163ae4e5bba360c1b74413669",
       "version_major": 2,
       "version_minor": 0
      },
      "text/plain": [
       "  0%|          | 0/1 [00:00<?, ?it/s]"
      ]
     },
     "metadata": {},
     "output_type": "display_data"
    },
    {
     "name": "stderr",
     "output_type": "stream",
     "text": [
      "21:44:57 - cmdstanpy - INFO - Chain [1] start processing\n",
      "21:44:57 - cmdstanpy - INFO - Chain [1] done processing\n",
      "21:44:57 - cmdstanpy - INFO - Chain [1] start processing\n",
      "21:44:58 - cmdstanpy - INFO - Chain [1] done processing\n"
     ]
    },
    {
     "data": {
      "application/vnd.jupyter.widget-view+json": {
       "model_id": "0a2ba4d47568409a9cab9832f0674ac8",
       "version_major": 2,
       "version_minor": 0
      },
      "text/plain": [
       "  0%|          | 0/1 [00:00<?, ?it/s]"
      ]
     },
     "metadata": {},
     "output_type": "display_data"
    },
    {
     "name": "stderr",
     "output_type": "stream",
     "text": [
      "21:44:58 - cmdstanpy - INFO - Chain [1] start processing\n",
      "21:44:58 - cmdstanpy - INFO - Chain [1] done processing\n",
      "21:44:59 - cmdstanpy - INFO - Chain [1] start processing\n",
      "21:44:59 - cmdstanpy - INFO - Chain [1] done processing\n"
     ]
    },
    {
     "data": {
      "application/vnd.jupyter.widget-view+json": {
       "model_id": "cc029e9deeb9415dbe48bafdb0fc1a54",
       "version_major": 2,
       "version_minor": 0
      },
      "text/plain": [
       "  0%|          | 0/1 [00:00<?, ?it/s]"
      ]
     },
     "metadata": {},
     "output_type": "display_data"
    },
    {
     "name": "stderr",
     "output_type": "stream",
     "text": [
      "21:44:59 - cmdstanpy - INFO - Chain [1] start processing\n",
      "21:44:59 - cmdstanpy - INFO - Chain [1] done processing\n",
      "21:45:00 - cmdstanpy - INFO - Chain [1] start processing\n",
      "21:45:00 - cmdstanpy - INFO - Chain [1] done processing\n"
     ]
    },
    {
     "data": {
      "application/vnd.jupyter.widget-view+json": {
       "model_id": "098a328794c74cad815d0483fb049d34",
       "version_major": 2,
       "version_minor": 0
      },
      "text/plain": [
       "  0%|          | 0/1 [00:00<?, ?it/s]"
      ]
     },
     "metadata": {},
     "output_type": "display_data"
    },
    {
     "name": "stderr",
     "output_type": "stream",
     "text": [
      "21:45:00 - cmdstanpy - INFO - Chain [1] start processing\n",
      "21:45:00 - cmdstanpy - INFO - Chain [1] done processing\n",
      "21:45:01 - cmdstanpy - INFO - Chain [1] start processing\n",
      "21:45:01 - cmdstanpy - INFO - Chain [1] done processing\n"
     ]
    },
    {
     "data": {
      "application/vnd.jupyter.widget-view+json": {
       "model_id": "f4e7e223d25944a69b46fce66d99789b",
       "version_major": 2,
       "version_minor": 0
      },
      "text/plain": [
       "  0%|          | 0/1 [00:00<?, ?it/s]"
      ]
     },
     "metadata": {},
     "output_type": "display_data"
    },
    {
     "name": "stderr",
     "output_type": "stream",
     "text": [
      "21:45:01 - cmdstanpy - INFO - Chain [1] start processing\n",
      "21:45:01 - cmdstanpy - INFO - Chain [1] done processing\n",
      "21:45:02 - cmdstanpy - INFO - Chain [1] start processing\n",
      "21:45:03 - cmdstanpy - INFO - Chain [1] done processing\n"
     ]
    },
    {
     "data": {
      "application/vnd.jupyter.widget-view+json": {
       "model_id": "d150e905241c4f15ab2752e499f621a2",
       "version_major": 2,
       "version_minor": 0
      },
      "text/plain": [
       "  0%|          | 0/1 [00:00<?, ?it/s]"
      ]
     },
     "metadata": {},
     "output_type": "display_data"
    },
    {
     "name": "stderr",
     "output_type": "stream",
     "text": [
      "21:45:03 - cmdstanpy - INFO - Chain [1] start processing\n",
      "21:45:05 - cmdstanpy - INFO - Chain [1] done processing\n",
      "21:45:05 - cmdstanpy - INFO - Chain [1] start processing\n",
      "21:45:05 - cmdstanpy - INFO - Chain [1] done processing\n"
     ]
    },
    {
     "data": {
      "application/vnd.jupyter.widget-view+json": {
       "model_id": "da1a949c220c48c2ae8f6a0f3ad2ac02",
       "version_major": 2,
       "version_minor": 0
      },
      "text/plain": [
       "  0%|          | 0/1 [00:00<?, ?it/s]"
      ]
     },
     "metadata": {},
     "output_type": "display_data"
    },
    {
     "name": "stderr",
     "output_type": "stream",
     "text": [
      "21:45:06 - cmdstanpy - INFO - Chain [1] start processing\n",
      "21:45:06 - cmdstanpy - INFO - Chain [1] done processing\n",
      "21:45:06 - cmdstanpy - INFO - Chain [1] start processing\n",
      "21:45:06 - cmdstanpy - INFO - Chain [1] done processing\n"
     ]
    },
    {
     "data": {
      "application/vnd.jupyter.widget-view+json": {
       "model_id": "673ff943b6b4440786b341124be446b7",
       "version_major": 2,
       "version_minor": 0
      },
      "text/plain": [
       "  0%|          | 0/1 [00:00<?, ?it/s]"
      ]
     },
     "metadata": {},
     "output_type": "display_data"
    },
    {
     "name": "stderr",
     "output_type": "stream",
     "text": [
      "21:45:06 - cmdstanpy - INFO - Chain [1] start processing\n",
      "21:45:07 - cmdstanpy - INFO - Chain [1] done processing\n",
      "21:45:07 - cmdstanpy - INFO - Chain [1] start processing\n",
      "21:45:07 - cmdstanpy - INFO - Chain [1] done processing\n"
     ]
    },
    {
     "data": {
      "application/vnd.jupyter.widget-view+json": {
       "model_id": "5e8ad3c43e65454bba644cd8a8a2b4cb",
       "version_major": 2,
       "version_minor": 0
      },
      "text/plain": [
       "  0%|          | 0/1 [00:00<?, ?it/s]"
      ]
     },
     "metadata": {},
     "output_type": "display_data"
    },
    {
     "name": "stderr",
     "output_type": "stream",
     "text": [
      "21:45:08 - cmdstanpy - INFO - Chain [1] start processing\n",
      "21:45:08 - cmdstanpy - INFO - Chain [1] done processing\n",
      "21:45:08 - cmdstanpy - INFO - Chain [1] start processing\n",
      "21:45:08 - cmdstanpy - INFO - Chain [1] done processing\n"
     ]
    },
    {
     "data": {
      "application/vnd.jupyter.widget-view+json": {
       "model_id": "adf05ebfa75149ffb83f89da57f5573f",
       "version_major": 2,
       "version_minor": 0
      },
      "text/plain": [
       "  0%|          | 0/1 [00:00<?, ?it/s]"
      ]
     },
     "metadata": {},
     "output_type": "display_data"
    },
    {
     "name": "stderr",
     "output_type": "stream",
     "text": [
      "21:45:08 - cmdstanpy - INFO - Chain [1] start processing\n",
      "21:45:09 - cmdstanpy - INFO - Chain [1] done processing\n",
      "21:45:09 - cmdstanpy - INFO - Chain [1] start processing\n",
      "21:45:09 - cmdstanpy - INFO - Chain [1] done processing\n"
     ]
    },
    {
     "data": {
      "application/vnd.jupyter.widget-view+json": {
       "model_id": "5770a9f8390545a3b3c66736259a384f",
       "version_major": 2,
       "version_minor": 0
      },
      "text/plain": [
       "  0%|          | 0/1 [00:00<?, ?it/s]"
      ]
     },
     "metadata": {},
     "output_type": "display_data"
    },
    {
     "name": "stderr",
     "output_type": "stream",
     "text": [
      "21:45:09 - cmdstanpy - INFO - Chain [1] start processing\n",
      "21:45:10 - cmdstanpy - INFO - Chain [1] done processing\n",
      "21:45:10 - cmdstanpy - INFO - Chain [1] start processing\n",
      "21:45:10 - cmdstanpy - INFO - Chain [1] done processing\n"
     ]
    },
    {
     "data": {
      "application/vnd.jupyter.widget-view+json": {
       "model_id": "840f4552e14c46d49900ca321703112d",
       "version_major": 2,
       "version_minor": 0
      },
      "text/plain": [
       "  0%|          | 0/1 [00:00<?, ?it/s]"
      ]
     },
     "metadata": {},
     "output_type": "display_data"
    },
    {
     "name": "stderr",
     "output_type": "stream",
     "text": [
      "21:45:10 - cmdstanpy - INFO - Chain [1] start processing\n",
      "21:45:11 - cmdstanpy - INFO - Chain [1] done processing\n",
      "21:45:11 - cmdstanpy - INFO - Chain [1] start processing\n",
      "21:45:11 - cmdstanpy - INFO - Chain [1] done processing\n"
     ]
    },
    {
     "data": {
      "application/vnd.jupyter.widget-view+json": {
       "model_id": "d4185293429d4453831d259a40501fb4",
       "version_major": 2,
       "version_minor": 0
      },
      "text/plain": [
       "  0%|          | 0/1 [00:00<?, ?it/s]"
      ]
     },
     "metadata": {},
     "output_type": "display_data"
    },
    {
     "name": "stderr",
     "output_type": "stream",
     "text": [
      "21:45:11 - cmdstanpy - INFO - Chain [1] start processing\n",
      "21:45:12 - cmdstanpy - INFO - Chain [1] done processing\n",
      "21:45:12 - cmdstanpy - INFO - Chain [1] start processing\n",
      "21:45:12 - cmdstanpy - INFO - Chain [1] done processing\n"
     ]
    },
    {
     "data": {
      "application/vnd.jupyter.widget-view+json": {
       "model_id": "e9e1e507c5f044a8a934f403599a00c0",
       "version_major": 2,
       "version_minor": 0
      },
      "text/plain": [
       "  0%|          | 0/1 [00:00<?, ?it/s]"
      ]
     },
     "metadata": {},
     "output_type": "display_data"
    },
    {
     "name": "stderr",
     "output_type": "stream",
     "text": [
      "21:45:12 - cmdstanpy - INFO - Chain [1] start processing\n",
      "21:45:12 - cmdstanpy - INFO - Chain [1] done processing\n",
      "21:45:13 - cmdstanpy - INFO - Chain [1] start processing\n",
      "21:45:13 - cmdstanpy - INFO - Chain [1] done processing\n"
     ]
    },
    {
     "data": {
      "application/vnd.jupyter.widget-view+json": {
       "model_id": "4af790955ebe432c82c7965e560a7911",
       "version_major": 2,
       "version_minor": 0
      },
      "text/plain": [
       "  0%|          | 0/1 [00:00<?, ?it/s]"
      ]
     },
     "metadata": {},
     "output_type": "display_data"
    },
    {
     "name": "stderr",
     "output_type": "stream",
     "text": [
      "21:45:13 - cmdstanpy - INFO - Chain [1] start processing\n",
      "21:45:13 - cmdstanpy - INFO - Chain [1] done processing\n",
      "21:45:14 - cmdstanpy - INFO - Chain [1] start processing\n",
      "21:45:14 - cmdstanpy - INFO - Chain [1] done processing\n"
     ]
    },
    {
     "data": {
      "application/vnd.jupyter.widget-view+json": {
       "model_id": "a0a4d175e35b42209fc63b279d5b1249",
       "version_major": 2,
       "version_minor": 0
      },
      "text/plain": [
       "  0%|          | 0/1 [00:00<?, ?it/s]"
      ]
     },
     "metadata": {},
     "output_type": "display_data"
    },
    {
     "name": "stderr",
     "output_type": "stream",
     "text": [
      "21:45:14 - cmdstanpy - INFO - Chain [1] start processing\n",
      "21:45:15 - cmdstanpy - INFO - Chain [1] done processing\n",
      "21:45:15 - cmdstanpy - INFO - Chain [1] start processing\n",
      "21:45:15 - cmdstanpy - INFO - Chain [1] done processing\n"
     ]
    },
    {
     "data": {
      "application/vnd.jupyter.widget-view+json": {
       "model_id": "290985d5d45f4a548fe733445eb9c2e2",
       "version_major": 2,
       "version_minor": 0
      },
      "text/plain": [
       "  0%|          | 0/1 [00:00<?, ?it/s]"
      ]
     },
     "metadata": {},
     "output_type": "display_data"
    },
    {
     "name": "stderr",
     "output_type": "stream",
     "text": [
      "21:45:15 - cmdstanpy - INFO - Chain [1] start processing\n",
      "21:45:16 - cmdstanpy - INFO - Chain [1] done processing\n",
      "21:45:16 - cmdstanpy - INFO - Chain [1] start processing\n",
      "21:45:16 - cmdstanpy - INFO - Chain [1] done processing\n"
     ]
    },
    {
     "data": {
      "application/vnd.jupyter.widget-view+json": {
       "model_id": "897daa642ef940a8bcc000b461821b19",
       "version_major": 2,
       "version_minor": 0
      },
      "text/plain": [
       "  0%|          | 0/1 [00:00<?, ?it/s]"
      ]
     },
     "metadata": {},
     "output_type": "display_data"
    },
    {
     "name": "stderr",
     "output_type": "stream",
     "text": [
      "21:45:16 - cmdstanpy - INFO - Chain [1] start processing\n",
      "21:45:16 - cmdstanpy - INFO - Chain [1] done processing\n",
      "21:45:17 - cmdstanpy - INFO - Chain [1] start processing\n",
      "21:45:17 - cmdstanpy - INFO - Chain [1] done processing\n"
     ]
    },
    {
     "data": {
      "application/vnd.jupyter.widget-view+json": {
       "model_id": "e2ae62ff7f6e4366a2d83dd13a832ebe",
       "version_major": 2,
       "version_minor": 0
      },
      "text/plain": [
       "  0%|          | 0/1 [00:00<?, ?it/s]"
      ]
     },
     "metadata": {},
     "output_type": "display_data"
    },
    {
     "name": "stderr",
     "output_type": "stream",
     "text": [
      "21:45:17 - cmdstanpy - INFO - Chain [1] start processing\n",
      "21:45:17 - cmdstanpy - INFO - Chain [1] done processing\n",
      "21:45:18 - cmdstanpy - INFO - Chain [1] start processing\n",
      "21:45:19 - cmdstanpy - INFO - Chain [1] done processing\n"
     ]
    },
    {
     "data": {
      "application/vnd.jupyter.widget-view+json": {
       "model_id": "771b0a1848444285b04ec291e1d6b265",
       "version_major": 2,
       "version_minor": 0
      },
      "text/plain": [
       "  0%|          | 0/1 [00:00<?, ?it/s]"
      ]
     },
     "metadata": {},
     "output_type": "display_data"
    },
    {
     "name": "stderr",
     "output_type": "stream",
     "text": [
      "21:45:19 - cmdstanpy - INFO - Chain [1] start processing\n",
      "21:45:20 - cmdstanpy - INFO - Chain [1] done processing\n",
      "21:45:21 - cmdstanpy - INFO - Chain [1] start processing\n",
      "21:45:21 - cmdstanpy - INFO - Chain [1] done processing\n"
     ]
    },
    {
     "data": {
      "application/vnd.jupyter.widget-view+json": {
       "model_id": "48bac01eb776437994e8297fc4b7ea82",
       "version_major": 2,
       "version_minor": 0
      },
      "text/plain": [
       "  0%|          | 0/1 [00:00<?, ?it/s]"
      ]
     },
     "metadata": {},
     "output_type": "display_data"
    },
    {
     "name": "stderr",
     "output_type": "stream",
     "text": [
      "21:45:21 - cmdstanpy - INFO - Chain [1] start processing\n",
      "21:45:21 - cmdstanpy - INFO - Chain [1] done processing\n",
      "21:45:22 - cmdstanpy - INFO - Chain [1] start processing\n",
      "21:45:22 - cmdstanpy - INFO - Chain [1] done processing\n"
     ]
    },
    {
     "data": {
      "application/vnd.jupyter.widget-view+json": {
       "model_id": "2f54883fc42e4a6ba713103d8fc23f2c",
       "version_major": 2,
       "version_minor": 0
      },
      "text/plain": [
       "  0%|          | 0/1 [00:00<?, ?it/s]"
      ]
     },
     "metadata": {},
     "output_type": "display_data"
    },
    {
     "name": "stderr",
     "output_type": "stream",
     "text": [
      "21:45:22 - cmdstanpy - INFO - Chain [1] start processing\n",
      "21:45:22 - cmdstanpy - INFO - Chain [1] done processing\n",
      "21:45:23 - cmdstanpy - INFO - Chain [1] start processing\n",
      "21:45:25 - cmdstanpy - INFO - Chain [1] done processing\n"
     ]
    },
    {
     "data": {
      "application/vnd.jupyter.widget-view+json": {
       "model_id": "0b0ecdc0ef354cffafe62f7c07ad419c",
       "version_major": 2,
       "version_minor": 0
      },
      "text/plain": [
       "  0%|          | 0/1 [00:00<?, ?it/s]"
      ]
     },
     "metadata": {},
     "output_type": "display_data"
    },
    {
     "name": "stderr",
     "output_type": "stream",
     "text": [
      "21:45:25 - cmdstanpy - INFO - Chain [1] start processing\n",
      "21:45:25 - cmdstanpy - INFO - Chain [1] done processing\n",
      "21:45:26 - cmdstanpy - INFO - Chain [1] start processing\n",
      "21:45:26 - cmdstanpy - INFO - Chain [1] done processing\n"
     ]
    },
    {
     "data": {
      "application/vnd.jupyter.widget-view+json": {
       "model_id": "a2315603e4774d7e9b1ba34cabc11f87",
       "version_major": 2,
       "version_minor": 0
      },
      "text/plain": [
       "  0%|          | 0/1 [00:00<?, ?it/s]"
      ]
     },
     "metadata": {},
     "output_type": "display_data"
    },
    {
     "name": "stderr",
     "output_type": "stream",
     "text": [
      "21:45:26 - cmdstanpy - INFO - Chain [1] start processing\n",
      "21:45:26 - cmdstanpy - INFO - Chain [1] done processing\n",
      "21:45:27 - cmdstanpy - INFO - Chain [1] start processing\n",
      "21:45:27 - cmdstanpy - INFO - Chain [1] done processing\n"
     ]
    },
    {
     "data": {
      "application/vnd.jupyter.widget-view+json": {
       "model_id": "c02b63425ce94c96a6e11aa792a698ab",
       "version_major": 2,
       "version_minor": 0
      },
      "text/plain": [
       "  0%|          | 0/1 [00:00<?, ?it/s]"
      ]
     },
     "metadata": {},
     "output_type": "display_data"
    },
    {
     "name": "stderr",
     "output_type": "stream",
     "text": [
      "21:45:27 - cmdstanpy - INFO - Chain [1] start processing\n",
      "21:45:28 - cmdstanpy - INFO - Chain [1] done processing\n",
      "21:45:28 - cmdstanpy - INFO - Chain [1] start processing\n",
      "21:45:28 - cmdstanpy - INFO - Chain [1] done processing\n"
     ]
    },
    {
     "data": {
      "application/vnd.jupyter.widget-view+json": {
       "model_id": "9c293729be364af6a79c991772061af4",
       "version_major": 2,
       "version_minor": 0
      },
      "text/plain": [
       "  0%|          | 0/1 [00:00<?, ?it/s]"
      ]
     },
     "metadata": {},
     "output_type": "display_data"
    },
    {
     "name": "stderr",
     "output_type": "stream",
     "text": [
      "21:45:28 - cmdstanpy - INFO - Chain [1] start processing\n",
      "21:45:29 - cmdstanpy - INFO - Chain [1] done processing\n",
      "21:45:29 - cmdstanpy - INFO - Chain [1] start processing\n",
      "21:45:29 - cmdstanpy - INFO - Chain [1] done processing\n"
     ]
    },
    {
     "data": {
      "application/vnd.jupyter.widget-view+json": {
       "model_id": "6b72a15c5f6d4af399ea8e5d348c3453",
       "version_major": 2,
       "version_minor": 0
      },
      "text/plain": [
       "  0%|          | 0/1 [00:00<?, ?it/s]"
      ]
     },
     "metadata": {},
     "output_type": "display_data"
    },
    {
     "name": "stderr",
     "output_type": "stream",
     "text": [
      "21:45:30 - cmdstanpy - INFO - Chain [1] start processing\n",
      "21:45:30 - cmdstanpy - INFO - Chain [1] done processing\n",
      "21:45:30 - cmdstanpy - INFO - Chain [1] start processing\n",
      "21:45:30 - cmdstanpy - INFO - Chain [1] done processing\n"
     ]
    },
    {
     "data": {
      "application/vnd.jupyter.widget-view+json": {
       "model_id": "af6cbaac95864518a6c93bf098b57806",
       "version_major": 2,
       "version_minor": 0
      },
      "text/plain": [
       "  0%|          | 0/1 [00:00<?, ?it/s]"
      ]
     },
     "metadata": {},
     "output_type": "display_data"
    },
    {
     "name": "stderr",
     "output_type": "stream",
     "text": [
      "21:45:31 - cmdstanpy - INFO - Chain [1] start processing\n",
      "21:45:31 - cmdstanpy - INFO - Chain [1] done processing\n",
      "21:45:31 - cmdstanpy - INFO - Chain [1] start processing\n",
      "21:45:31 - cmdstanpy - INFO - Chain [1] done processing\n"
     ]
    },
    {
     "data": {
      "application/vnd.jupyter.widget-view+json": {
       "model_id": "cf6dfea25e994b6b8a42c8ca6685204d",
       "version_major": 2,
       "version_minor": 0
      },
      "text/plain": [
       "  0%|          | 0/1 [00:00<?, ?it/s]"
      ]
     },
     "metadata": {},
     "output_type": "display_data"
    },
    {
     "name": "stderr",
     "output_type": "stream",
     "text": [
      "21:45:32 - cmdstanpy - INFO - Chain [1] start processing\n",
      "21:45:32 - cmdstanpy - INFO - Chain [1] done processing\n",
      "21:45:32 - cmdstanpy - INFO - Chain [1] start processing\n",
      "21:45:32 - cmdstanpy - INFO - Chain [1] done processing\n"
     ]
    },
    {
     "data": {
      "application/vnd.jupyter.widget-view+json": {
       "model_id": "f1051f5af02d401695b382eeb68603e8",
       "version_major": 2,
       "version_minor": 0
      },
      "text/plain": [
       "  0%|          | 0/1 [00:00<?, ?it/s]"
      ]
     },
     "metadata": {},
     "output_type": "display_data"
    },
    {
     "name": "stderr",
     "output_type": "stream",
     "text": [
      "21:45:33 - cmdstanpy - INFO - Chain [1] start processing\n",
      "21:45:33 - cmdstanpy - INFO - Chain [1] done processing\n",
      "21:45:33 - cmdstanpy - INFO - Chain [1] start processing\n",
      "21:45:34 - cmdstanpy - INFO - Chain [1] done processing\n"
     ]
    },
    {
     "name": "stdout",
     "output_type": "stream",
     "text": [
      "--------Total: 0~10 eIMFs, Now: eIMFs_3 --------\n"
     ]
    },
    {
     "name": "stderr",
     "output_type": "stream",
     "text": [
      "21:45:34 - cmdstanpy - INFO - Chain [1] start processing\n",
      "21:45:34 - cmdstanpy - INFO - Chain [1] done processing\n"
     ]
    },
    {
     "data": {
      "application/vnd.jupyter.widget-view+json": {
       "model_id": "5a27fe928f2c49179397e5da37f24fe3",
       "version_major": 2,
       "version_minor": 0
      },
      "text/plain": [
       "  0%|          | 0/1 [00:00<?, ?it/s]"
      ]
     },
     "metadata": {},
     "output_type": "display_data"
    },
    {
     "name": "stderr",
     "output_type": "stream",
     "text": [
      "21:45:35 - cmdstanpy - INFO - Chain [1] start processing\n",
      "21:45:35 - cmdstanpy - INFO - Chain [1] done processing\n",
      "21:45:35 - cmdstanpy - INFO - Chain [1] start processing\n",
      "21:45:36 - cmdstanpy - INFO - Chain [1] done processing\n"
     ]
    },
    {
     "data": {
      "application/vnd.jupyter.widget-view+json": {
       "model_id": "35aeaf74d56f49bebea01b1db81ea938",
       "version_major": 2,
       "version_minor": 0
      },
      "text/plain": [
       "  0%|          | 0/1 [00:00<?, ?it/s]"
      ]
     },
     "metadata": {},
     "output_type": "display_data"
    },
    {
     "name": "stderr",
     "output_type": "stream",
     "text": [
      "21:45:36 - cmdstanpy - INFO - Chain [1] start processing\n",
      "21:45:36 - cmdstanpy - INFO - Chain [1] done processing\n",
      "21:45:36 - cmdstanpy - INFO - Chain [1] start processing\n",
      "21:45:36 - cmdstanpy - INFO - Chain [1] done processing\n"
     ]
    },
    {
     "data": {
      "application/vnd.jupyter.widget-view+json": {
       "model_id": "dbebe88769b647e294e46081b2e3686b",
       "version_major": 2,
       "version_minor": 0
      },
      "text/plain": [
       "  0%|          | 0/1 [00:00<?, ?it/s]"
      ]
     },
     "metadata": {},
     "output_type": "display_data"
    },
    {
     "name": "stderr",
     "output_type": "stream",
     "text": [
      "21:45:37 - cmdstanpy - INFO - Chain [1] start processing\n",
      "21:45:37 - cmdstanpy - INFO - Chain [1] done processing\n",
      "21:45:37 - cmdstanpy - INFO - Chain [1] start processing\n",
      "21:45:39 - cmdstanpy - INFO - Chain [1] done processing\n"
     ]
    },
    {
     "data": {
      "application/vnd.jupyter.widget-view+json": {
       "model_id": "6f205844c99d41a5b9f5f877b7632869",
       "version_major": 2,
       "version_minor": 0
      },
      "text/plain": [
       "  0%|          | 0/1 [00:00<?, ?it/s]"
      ]
     },
     "metadata": {},
     "output_type": "display_data"
    },
    {
     "name": "stderr",
     "output_type": "stream",
     "text": [
      "21:45:39 - cmdstanpy - INFO - Chain [1] start processing\n",
      "21:45:40 - cmdstanpy - INFO - Chain [1] done processing\n",
      "21:45:41 - cmdstanpy - INFO - Chain [1] start processing\n",
      "21:45:41 - cmdstanpy - INFO - Chain [1] done processing\n"
     ]
    },
    {
     "data": {
      "application/vnd.jupyter.widget-view+json": {
       "model_id": "be06fb879666410d9ba335039545b4e7",
       "version_major": 2,
       "version_minor": 0
      },
      "text/plain": [
       "  0%|          | 0/1 [00:00<?, ?it/s]"
      ]
     },
     "metadata": {},
     "output_type": "display_data"
    },
    {
     "name": "stderr",
     "output_type": "stream",
     "text": [
      "21:45:41 - cmdstanpy - INFO - Chain [1] start processing\n",
      "21:45:41 - cmdstanpy - INFO - Chain [1] done processing\n",
      "21:45:42 - cmdstanpy - INFO - Chain [1] start processing\n",
      "21:45:42 - cmdstanpy - INFO - Chain [1] done processing\n"
     ]
    },
    {
     "data": {
      "application/vnd.jupyter.widget-view+json": {
       "model_id": "d0d1d9bf6dd04e19bfdcc208731cbe8c",
       "version_major": 2,
       "version_minor": 0
      },
      "text/plain": [
       "  0%|          | 0/1 [00:00<?, ?it/s]"
      ]
     },
     "metadata": {},
     "output_type": "display_data"
    },
    {
     "name": "stderr",
     "output_type": "stream",
     "text": [
      "21:45:42 - cmdstanpy - INFO - Chain [1] start processing\n",
      "21:45:42 - cmdstanpy - INFO - Chain [1] done processing\n",
      "21:45:43 - cmdstanpy - INFO - Chain [1] start processing\n",
      "21:45:43 - cmdstanpy - INFO - Chain [1] done processing\n"
     ]
    },
    {
     "data": {
      "application/vnd.jupyter.widget-view+json": {
       "model_id": "9937a784869a4430ac3ea4ce7895bb06",
       "version_major": 2,
       "version_minor": 0
      },
      "text/plain": [
       "  0%|          | 0/1 [00:00<?, ?it/s]"
      ]
     },
     "metadata": {},
     "output_type": "display_data"
    },
    {
     "name": "stderr",
     "output_type": "stream",
     "text": [
      "21:45:43 - cmdstanpy - INFO - Chain [1] start processing\n",
      "21:45:43 - cmdstanpy - INFO - Chain [1] done processing\n",
      "21:45:44 - cmdstanpy - INFO - Chain [1] start processing\n",
      "21:45:47 - cmdstanpy - INFO - Chain [1] done processing\n"
     ]
    },
    {
     "data": {
      "application/vnd.jupyter.widget-view+json": {
       "model_id": "d1c64e307055435eb1e9019f7093bbbc",
       "version_major": 2,
       "version_minor": 0
      },
      "text/plain": [
       "  0%|          | 0/1 [00:00<?, ?it/s]"
      ]
     },
     "metadata": {},
     "output_type": "display_data"
    },
    {
     "name": "stderr",
     "output_type": "stream",
     "text": [
      "21:45:48 - cmdstanpy - INFO - Chain [1] start processing\n",
      "21:45:50 - cmdstanpy - INFO - Chain [1] done processing\n",
      "21:45:50 - cmdstanpy - INFO - Chain [1] start processing\n",
      "21:45:53 - cmdstanpy - INFO - Chain [1] done processing\n"
     ]
    },
    {
     "data": {
      "application/vnd.jupyter.widget-view+json": {
       "model_id": "7965c0b1f18c447d880171924091ab12",
       "version_major": 2,
       "version_minor": 0
      },
      "text/plain": [
       "  0%|          | 0/1 [00:00<?, ?it/s]"
      ]
     },
     "metadata": {},
     "output_type": "display_data"
    },
    {
     "name": "stderr",
     "output_type": "stream",
     "text": [
      "21:45:53 - cmdstanpy - INFO - Chain [1] start processing\n",
      "21:45:54 - cmdstanpy - INFO - Chain [1] done processing\n"
     ]
    },
    {
     "ename": "KeyboardInterrupt",
     "evalue": "",
     "output_type": "error",
     "traceback": [
      "\u001b[1;31m---------------------------------------------------------------------------\u001b[0m",
      "\u001b[1;31mKeyboardInterrupt\u001b[0m                         Traceback (most recent call last)",
      "Cell \u001b[1;32mIn[38], line 5\u001b[0m\n\u001b[0;32m      3\u001b[0m \u001b[38;5;28mprint\u001b[39m(\u001b[38;5;124mf\u001b[39m\u001b[38;5;124m\"\u001b[39m\u001b[38;5;124m========== \u001b[39m\u001b[38;5;132;01m{\u001b[39;00m\u001b[38;5;250m \u001b[39mcode\u001b[38;5;250m \u001b[39m\u001b[38;5;132;01m}\u001b[39;00m\u001b[38;5;124m ==========\u001b[39m\u001b[38;5;124m\"\u001b[39m)\n\u001b[0;32m      4\u001b[0m \u001b[38;5;28mprint\u001b[39m(\u001b[38;5;124m\"\u001b[39m\u001b[38;5;124m==================================\u001b[39m\u001b[38;5;124m\"\u001b[39m)\n\u001b[1;32m----> 5\u001b[0m \u001b[43mexecute_EEMD_Prophet\u001b[49m\u001b[43m(\u001b[49m\u001b[43mcode\u001b[49m\u001b[43m)\u001b[49m\n",
      "Cell \u001b[1;32mIn[35], line 14\u001b[0m, in \u001b[0;36mexecute_EEMD_Prophet\u001b[1;34m(product_code, eemd_trials, optimize_trials, forecast_period)\u001b[0m\n\u001b[0;32m     12\u001b[0m all_eIMFs_dict \u001b[38;5;241m=\u001b[39m extract_eIMFs(all_eIMFs_df, nIMFs)\n\u001b[0;32m     13\u001b[0m \u001b[38;5;66;03m# EEMD+Prophet실행\u001b[39;00m\n\u001b[1;32m---> 14\u001b[0m model_dict, pred_dict, train_dict \u001b[38;5;241m=\u001b[39m \u001b[43mEEMD_Prophet\u001b[49m\u001b[43m(\u001b[49m\u001b[43mall_eIMFs_dict\u001b[49m\u001b[43m,\u001b[49m\u001b[43m \u001b[49m\u001b[43mforecast_period\u001b[49m\u001b[43m,\u001b[49m\u001b[43m \u001b[49m\u001b[43moptimize_trials\u001b[49m\u001b[43m)\u001b[49m \u001b[38;5;66;03m#optimize trials\u001b[39;00m\n\u001b[0;32m     15\u001b[0m all_result_df \u001b[38;5;241m=\u001b[39m make_all_result_df(pred_dict)\n\u001b[0;32m     17\u001b[0m \u001b[38;5;66;03m# 모델 저장\u001b[39;00m\n",
      "Cell \u001b[1;32mIn[27], line 18\u001b[0m, in \u001b[0;36mEEMD_Prophet\u001b[1;34m(all_eIMFs_dict, forecast_period, optimize_trials)\u001b[0m\n\u001b[0;32m     16\u001b[0m train_dict[i] \u001b[38;5;241m=\u001b[39m train_df\n\u001b[0;32m     17\u001b[0m \u001b[38;5;66;03m# 파라미터 최적화\u001b[39;00m\n\u001b[1;32m---> 18\u001b[0m best_params \u001b[38;5;241m=\u001b[39m \u001b[43moptimize_prophet\u001b[49m\u001b[43m(\u001b[49m\u001b[43meIMF_df\u001b[49m\u001b[43m,\u001b[49m\u001b[43m \u001b[49m\u001b[43mvalid_df\u001b[49m\u001b[43m,\u001b[49m\u001b[43m \u001b[49m\u001b[43moptimize_trials\u001b[49m\u001b[43m,\u001b[49m\u001b[43m \u001b[49m\u001b[43mforecast_period\u001b[49m\u001b[43m)\u001b[49m\n\u001b[0;32m     20\u001b[0m \u001b[38;5;66;03m# 최적 파라미터를 사용한 모델 훈련\u001b[39;00m\n\u001b[0;32m     21\u001b[0m best_model \u001b[38;5;241m=\u001b[39m Prophet(\u001b[38;5;241m*\u001b[39m\u001b[38;5;241m*\u001b[39mbest_params)\n",
      "Cell \u001b[1;32mIn[26], line 26\u001b[0m, in \u001b[0;36moptimize_prophet\u001b[1;34m(eIMF_df, valid_df, optimize_trials, forecast_period)\u001b[0m\n\u001b[0;32m     24\u001b[0m     df_cv \u001b[38;5;241m=\u001b[39m cross_validation(m, cutoffs\u001b[38;5;241m=\u001b[39m[cutoff], horizon\u001b[38;5;241m=\u001b[39m\u001b[38;5;28mstr\u001b[39m(forecast_period)\u001b[38;5;241m+\u001b[39m\u001b[38;5;124m'\u001b[39m\u001b[38;5;124m days\u001b[39m\u001b[38;5;124m'\u001b[39m)  \n\u001b[0;32m     25\u001b[0m     \u001b[38;5;66;03m# rolling_window: cut-off를 기준으로 몇 일의 성능을 계산할지 결정(1: 전체 기간동안의 성능)\u001b[39;00m\n\u001b[1;32m---> 26\u001b[0m     df_p \u001b[38;5;241m=\u001b[39m \u001b[43mperformance_metrics\u001b[49m\u001b[43m(\u001b[49m\u001b[43mdf_cv\u001b[49m\u001b[43m,\u001b[49m\u001b[43m \u001b[49m\u001b[43mrolling_window\u001b[49m\u001b[38;5;241;43m=\u001b[39;49m\u001b[38;5;241;43m1\u001b[39;49m\u001b[43m)\u001b[49m\n\u001b[0;32m     27\u001b[0m     rmses\u001b[38;5;241m.\u001b[39mappend(df_p[\u001b[38;5;124m'\u001b[39m\u001b[38;5;124mrmse\u001b[39m\u001b[38;5;124m'\u001b[39m]\u001b[38;5;241m.\u001b[39mvalues[\u001b[38;5;241m0\u001b[39m])\n\u001b[0;32m     29\u001b[0m best_params \u001b[38;5;241m=\u001b[39m selected_params[np\u001b[38;5;241m.\u001b[39margmin(rmses)]\n",
      "File \u001b[1;32m~\\anaconda3\\envs\\EEMD+LSTM\\lib\\site-packages\\prophet\\diagnostics.py:394\u001b[0m, in \u001b[0;36mperformance_metrics\u001b[1;34m(df, metrics, rolling_window, monthly)\u001b[0m\n\u001b[0;32m    392\u001b[0m dfs \u001b[38;5;241m=\u001b[39m {}\n\u001b[0;32m    393\u001b[0m \u001b[38;5;28;01mfor\u001b[39;00m metric \u001b[38;5;129;01min\u001b[39;00m metrics:\n\u001b[1;32m--> 394\u001b[0m     dfs[metric] \u001b[38;5;241m=\u001b[39m \u001b[38;5;28;43meval\u001b[39;49m\u001b[43m(\u001b[49m\u001b[43mmetric\u001b[49m\u001b[43m)\u001b[49m\u001b[43m(\u001b[49m\u001b[43mdf_m\u001b[49m\u001b[43m,\u001b[49m\u001b[43m \u001b[49m\u001b[43mw\u001b[49m\u001b[43m)\u001b[49m\n\u001b[0;32m    395\u001b[0m res \u001b[38;5;241m=\u001b[39m dfs[metrics[\u001b[38;5;241m0\u001b[39m]]\n\u001b[0;32m    396\u001b[0m \u001b[38;5;28;01mfor\u001b[39;00m i \u001b[38;5;129;01min\u001b[39;00m \u001b[38;5;28mrange\u001b[39m(\u001b[38;5;241m1\u001b[39m, \u001b[38;5;28mlen\u001b[39m(metrics)):\n",
      "File \u001b[1;32m~\\anaconda3\\envs\\EEMD+LSTM\\lib\\site-packages\\prophet\\diagnostics.py:528\u001b[0m, in \u001b[0;36mmse\u001b[1;34m(df, w)\u001b[0m\n\u001b[0;32m    526\u001b[0m \u001b[38;5;28;01mif\u001b[39;00m w \u001b[38;5;241m<\u001b[39m \u001b[38;5;241m0\u001b[39m:\n\u001b[0;32m    527\u001b[0m     \u001b[38;5;28;01mreturn\u001b[39;00m pd\u001b[38;5;241m.\u001b[39mDataFrame({\u001b[38;5;124m'\u001b[39m\u001b[38;5;124mhorizon\u001b[39m\u001b[38;5;124m'\u001b[39m: df[\u001b[38;5;124m'\u001b[39m\u001b[38;5;124mhorizon\u001b[39m\u001b[38;5;124m'\u001b[39m], \u001b[38;5;124m'\u001b[39m\u001b[38;5;124mmse\u001b[39m\u001b[38;5;124m'\u001b[39m: se})\n\u001b[1;32m--> 528\u001b[0m \u001b[38;5;28;01mreturn\u001b[39;00m \u001b[43mrolling_mean_by_h\u001b[49m\u001b[43m(\u001b[49m\n\u001b[0;32m    529\u001b[0m \u001b[43m    \u001b[49m\u001b[43mx\u001b[49m\u001b[38;5;241;43m=\u001b[39;49m\u001b[43mse\u001b[49m\u001b[38;5;241;43m.\u001b[39;49m\u001b[43mvalues\u001b[49m\u001b[43m,\u001b[49m\u001b[43m \u001b[49m\u001b[43mh\u001b[49m\u001b[38;5;241;43m=\u001b[39;49m\u001b[43mdf\u001b[49m\u001b[43m[\u001b[49m\u001b[38;5;124;43m'\u001b[39;49m\u001b[38;5;124;43mhorizon\u001b[39;49m\u001b[38;5;124;43m'\u001b[39;49m\u001b[43m]\u001b[49m\u001b[38;5;241;43m.\u001b[39;49m\u001b[43mvalues\u001b[49m\u001b[43m,\u001b[49m\u001b[43m \u001b[49m\u001b[43mw\u001b[49m\u001b[38;5;241;43m=\u001b[39;49m\u001b[43mw\u001b[49m\u001b[43m,\u001b[49m\u001b[43m \u001b[49m\u001b[43mname\u001b[49m\u001b[38;5;241;43m=\u001b[39;49m\u001b[38;5;124;43m'\u001b[39;49m\u001b[38;5;124;43mmse\u001b[39;49m\u001b[38;5;124;43m'\u001b[39;49m\n\u001b[0;32m    530\u001b[0m \u001b[43m\u001b[49m\u001b[43m)\u001b[49m\n",
      "File \u001b[1;32m~\\anaconda3\\envs\\EEMD+LSTM\\lib\\site-packages\\prophet\\diagnostics.py:423\u001b[0m, in \u001b[0;36mrolling_mean_by_h\u001b[1;34m(x, h, w, name)\u001b[0m\n\u001b[0;32m    420\u001b[0m \u001b[38;5;66;03m# Aggregate over h\u001b[39;00m\n\u001b[0;32m    421\u001b[0m df \u001b[38;5;241m=\u001b[39m pd\u001b[38;5;241m.\u001b[39mDataFrame({\u001b[38;5;124m'\u001b[39m\u001b[38;5;124mx\u001b[39m\u001b[38;5;124m'\u001b[39m: x, \u001b[38;5;124m'\u001b[39m\u001b[38;5;124mh\u001b[39m\u001b[38;5;124m'\u001b[39m: h})\n\u001b[0;32m    422\u001b[0m df2 \u001b[38;5;241m=\u001b[39m (\n\u001b[1;32m--> 423\u001b[0m     \u001b[43mdf\u001b[49m\u001b[38;5;241;43m.\u001b[39;49m\u001b[43mgroupby\u001b[49m\u001b[43m(\u001b[49m\u001b[38;5;124;43m'\u001b[39;49m\u001b[38;5;124;43mh\u001b[39;49m\u001b[38;5;124;43m'\u001b[39;49m\u001b[43m)\u001b[49m\u001b[38;5;241;43m.\u001b[39;49m\u001b[43magg\u001b[49m\u001b[43m(\u001b[49m\u001b[43m[\u001b[49m\u001b[38;5;124;43m'\u001b[39;49m\u001b[38;5;124;43msum\u001b[39;49m\u001b[38;5;124;43m'\u001b[39;49m\u001b[43m,\u001b[49m\u001b[43m \u001b[49m\u001b[38;5;124;43m'\u001b[39;49m\u001b[38;5;124;43mcount\u001b[39;49m\u001b[38;5;124;43m'\u001b[39;49m\u001b[43m]\u001b[49m\u001b[43m)\u001b[49m\u001b[38;5;241;43m.\u001b[39;49m\u001b[43mreset_index\u001b[49m\u001b[43m(\u001b[49m\u001b[43m)\u001b[49m\u001b[38;5;241m.\u001b[39msort_values(\u001b[38;5;124m'\u001b[39m\u001b[38;5;124mh\u001b[39m\u001b[38;5;124m'\u001b[39m)\n\u001b[0;32m    424\u001b[0m )\n\u001b[0;32m    425\u001b[0m xs \u001b[38;5;241m=\u001b[39m df2[\u001b[38;5;124m'\u001b[39m\u001b[38;5;124mx\u001b[39m\u001b[38;5;124m'\u001b[39m][\u001b[38;5;124m'\u001b[39m\u001b[38;5;124msum\u001b[39m\u001b[38;5;124m'\u001b[39m]\u001b[38;5;241m.\u001b[39mvalues\n\u001b[0;32m    426\u001b[0m ns \u001b[38;5;241m=\u001b[39m df2[\u001b[38;5;124m'\u001b[39m\u001b[38;5;124mx\u001b[39m\u001b[38;5;124m'\u001b[39m][\u001b[38;5;124m'\u001b[39m\u001b[38;5;124mcount\u001b[39m\u001b[38;5;124m'\u001b[39m]\u001b[38;5;241m.\u001b[39mvalues\n",
      "File \u001b[1;32m~\\anaconda3\\envs\\EEMD+LSTM\\lib\\site-packages\\pandas\\core\\frame.py:6219\u001b[0m, in \u001b[0;36mDataFrame.reset_index\u001b[1;34m(self, level, drop, inplace, col_level, col_fill, allow_duplicates, names)\u001b[0m\n\u001b[0;32m   6213\u001b[0m         \u001b[38;5;28;01mif\u001b[39;00m lab \u001b[38;5;129;01mis\u001b[39;00m \u001b[38;5;129;01mnot\u001b[39;00m \u001b[38;5;28;01mNone\u001b[39;00m:\n\u001b[0;32m   6214\u001b[0m             \u001b[38;5;66;03m# if we have the codes, extract the values with a mask\u001b[39;00m\n\u001b[0;32m   6215\u001b[0m             level_values \u001b[38;5;241m=\u001b[39m algorithms\u001b[38;5;241m.\u001b[39mtake(\n\u001b[0;32m   6216\u001b[0m                 level_values, lab, allow_fill\u001b[38;5;241m=\u001b[39m\u001b[38;5;28;01mTrue\u001b[39;00m, fill_value\u001b[38;5;241m=\u001b[39mlev\u001b[38;5;241m.\u001b[39m_na_value\n\u001b[0;32m   6217\u001b[0m             )\n\u001b[1;32m-> 6219\u001b[0m         \u001b[43mnew_obj\u001b[49m\u001b[38;5;241;43m.\u001b[39;49m\u001b[43minsert\u001b[49m\u001b[43m(\u001b[49m\n\u001b[0;32m   6220\u001b[0m \u001b[43m            \u001b[49m\u001b[38;5;241;43m0\u001b[39;49m\u001b[43m,\u001b[49m\n\u001b[0;32m   6221\u001b[0m \u001b[43m            \u001b[49m\u001b[43mname\u001b[49m\u001b[43m,\u001b[49m\n\u001b[0;32m   6222\u001b[0m \u001b[43m            \u001b[49m\u001b[43mlevel_values\u001b[49m\u001b[43m,\u001b[49m\n\u001b[0;32m   6223\u001b[0m \u001b[43m            \u001b[49m\u001b[43mallow_duplicates\u001b[49m\u001b[38;5;241;43m=\u001b[39;49m\u001b[43mallow_duplicates\u001b[49m\u001b[43m,\u001b[49m\n\u001b[0;32m   6224\u001b[0m \u001b[43m        \u001b[49m\u001b[43m)\u001b[49m\n\u001b[0;32m   6226\u001b[0m new_obj\u001b[38;5;241m.\u001b[39mindex \u001b[38;5;241m=\u001b[39m new_index\n\u001b[0;32m   6227\u001b[0m \u001b[38;5;28;01mif\u001b[39;00m \u001b[38;5;129;01mnot\u001b[39;00m inplace:\n",
      "File \u001b[1;32m~\\anaconda3\\envs\\EEMD+LSTM\\lib\\site-packages\\pandas\\core\\frame.py:4787\u001b[0m, in \u001b[0;36mDataFrame.insert\u001b[1;34m(self, loc, column, value, allow_duplicates)\u001b[0m\n\u001b[0;32m   4784\u001b[0m     \u001b[38;5;28;01mraise\u001b[39;00m \u001b[38;5;167;01mTypeError\u001b[39;00m(\u001b[38;5;124m\"\u001b[39m\u001b[38;5;124mloc must be int\u001b[39m\u001b[38;5;124m\"\u001b[39m)\n\u001b[0;32m   4786\u001b[0m value \u001b[38;5;241m=\u001b[39m \u001b[38;5;28mself\u001b[39m\u001b[38;5;241m.\u001b[39m_sanitize_column(value)\n\u001b[1;32m-> 4787\u001b[0m \u001b[38;5;28;43mself\u001b[39;49m\u001b[38;5;241;43m.\u001b[39;49m\u001b[43m_mgr\u001b[49m\u001b[38;5;241;43m.\u001b[39;49m\u001b[43minsert\u001b[49m\u001b[43m(\u001b[49m\u001b[43mloc\u001b[49m\u001b[43m,\u001b[49m\u001b[43m \u001b[49m\u001b[43mcolumn\u001b[49m\u001b[43m,\u001b[49m\u001b[43m \u001b[49m\u001b[43mvalue\u001b[49m\u001b[43m)\u001b[49m\n",
      "File \u001b[1;32m~\\anaconda3\\envs\\EEMD+LSTM\\lib\\site-packages\\pandas\\core\\internals\\managers.py:1398\u001b[0m, in \u001b[0;36mBlockManager.insert\u001b[1;34m(self, loc, item, value)\u001b[0m\n\u001b[0;32m   1388\u001b[0m \u001b[38;5;250m\u001b[39m\u001b[38;5;124;03m\"\"\"\u001b[39;00m\n\u001b[0;32m   1389\u001b[0m \u001b[38;5;124;03mInsert item at selected position.\u001b[39;00m\n\u001b[0;32m   1390\u001b[0m \n\u001b[1;32m   (...)\u001b[0m\n\u001b[0;32m   1395\u001b[0m \u001b[38;5;124;03mvalue : np.ndarray or ExtensionArray\u001b[39;00m\n\u001b[0;32m   1396\u001b[0m \u001b[38;5;124;03m\"\"\"\u001b[39;00m\n\u001b[0;32m   1397\u001b[0m \u001b[38;5;66;03m# insert to the axis; this could possibly raise a TypeError\u001b[39;00m\n\u001b[1;32m-> 1398\u001b[0m new_axis \u001b[38;5;241m=\u001b[39m \u001b[38;5;28;43mself\u001b[39;49m\u001b[38;5;241;43m.\u001b[39;49m\u001b[43mitems\u001b[49m\u001b[38;5;241;43m.\u001b[39;49m\u001b[43minsert\u001b[49m\u001b[43m(\u001b[49m\u001b[43mloc\u001b[49m\u001b[43m,\u001b[49m\u001b[43m \u001b[49m\u001b[43mitem\u001b[49m\u001b[43m)\u001b[49m\n\u001b[0;32m   1400\u001b[0m \u001b[38;5;28;01mif\u001b[39;00m value\u001b[38;5;241m.\u001b[39mndim \u001b[38;5;241m==\u001b[39m \u001b[38;5;241m2\u001b[39m:\n\u001b[0;32m   1401\u001b[0m     value \u001b[38;5;241m=\u001b[39m value\u001b[38;5;241m.\u001b[39mT\n",
      "File \u001b[1;32m~\\anaconda3\\envs\\EEMD+LSTM\\lib\\site-packages\\pandas\\core\\indexes\\multi.py:3729\u001b[0m, in \u001b[0;36mMultiIndex.insert\u001b[1;34m(self, loc, item)\u001b[0m\n\u001b[0;32m   3726\u001b[0m         lev_loc \u001b[38;5;241m=\u001b[39m level\u001b[38;5;241m.\u001b[39mget_loc(k)\n\u001b[0;32m   3728\u001b[0m     new_levels\u001b[38;5;241m.\u001b[39mappend(level)\n\u001b[1;32m-> 3729\u001b[0m     new_codes\u001b[38;5;241m.\u001b[39mappend(\u001b[43mnp\u001b[49m\u001b[38;5;241;43m.\u001b[39;49m\u001b[43minsert\u001b[49m\u001b[43m(\u001b[49m\u001b[43mensure_int64\u001b[49m\u001b[43m(\u001b[49m\u001b[43mlevel_codes\u001b[49m\u001b[43m)\u001b[49m\u001b[43m,\u001b[49m\u001b[43m \u001b[49m\u001b[43mloc\u001b[49m\u001b[43m,\u001b[49m\u001b[43m \u001b[49m\u001b[43mlev_loc\u001b[49m\u001b[43m)\u001b[49m)\n\u001b[0;32m   3731\u001b[0m \u001b[38;5;28;01mreturn\u001b[39;00m MultiIndex(\n\u001b[0;32m   3732\u001b[0m     levels\u001b[38;5;241m=\u001b[39mnew_levels, codes\u001b[38;5;241m=\u001b[39mnew_codes, names\u001b[38;5;241m=\u001b[39m\u001b[38;5;28mself\u001b[39m\u001b[38;5;241m.\u001b[39mnames, verify_integrity\u001b[38;5;241m=\u001b[39m\u001b[38;5;28;01mFalse\u001b[39;00m\n\u001b[0;32m   3733\u001b[0m )\n",
      "File \u001b[1;32m<__array_function__ internals>:180\u001b[0m, in \u001b[0;36minsert\u001b[1;34m(*args, **kwargs)\u001b[0m\n",
      "File \u001b[1;32m~\\anaconda3\\envs\\EEMD+LSTM\\lib\\site-packages\\numpy\\lib\\function_base.py:5356\u001b[0m, in \u001b[0;36minsert\u001b[1;34m(arr, obj, values, axis)\u001b[0m\n\u001b[0;32m   5354\u001b[0m slobj2[axis] \u001b[38;5;241m=\u001b[39m \u001b[38;5;28mslice\u001b[39m(index, \u001b[38;5;28;01mNone\u001b[39;00m)\n\u001b[0;32m   5355\u001b[0m new[\u001b[38;5;28mtuple\u001b[39m(slobj)] \u001b[38;5;241m=\u001b[39m arr[\u001b[38;5;28mtuple\u001b[39m(slobj2)]\n\u001b[1;32m-> 5356\u001b[0m \u001b[38;5;28;01mif\u001b[39;00m wrap:\n\u001b[0;32m   5357\u001b[0m     \u001b[38;5;28;01mreturn\u001b[39;00m wrap(new)\n\u001b[0;32m   5358\u001b[0m \u001b[38;5;28;01mreturn\u001b[39;00m new\n",
      "\u001b[1;31mKeyboardInterrupt\u001b[0m: "
     ]
    }
   ],
   "source": [
    "for code in codes:\n",
    "    print(\"==================================\")\n",
    "    print(f\"========== { code } ==========\")\n",
    "    print(\"==================================\")\n",
    "    execute_EEMD_Prophet(code)"
   ]
  },
  {
   "cell_type": "code",
   "execution_count": null,
   "id": "11b27f33",
   "metadata": {},
   "outputs": [],
   "source": [
    "# 모델 로드\n",
    "#load_model('Product_0739_0503.pkl')"
   ]
  }
 ],
 "metadata": {
  "kernelspec": {
   "display_name": "EEMD_LSTM",
   "language": "python",
   "name": "eemd_lstm"
  },
  "language_info": {
   "codemirror_mode": {
    "name": "ipython",
    "version": 3
   },
   "file_extension": ".py",
   "mimetype": "text/x-python",
   "name": "python",
   "nbconvert_exporter": "python",
   "pygments_lexer": "ipython3",
   "version": "3.10.11"
  }
 },
 "nbformat": 4,
 "nbformat_minor": 5
}
